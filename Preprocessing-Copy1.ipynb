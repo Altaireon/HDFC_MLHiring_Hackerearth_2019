{
 "cells": [
  {
   "cell_type": "code",
   "execution_count": 1,
   "metadata": {},
   "outputs": [],
   "source": [
    "import pandas as pd\n",
    "import numpy as np\n",
    "import matplotlib.pyplot as plt\n",
    "import seaborn as sns\n",
    "%matplotlib inline"
   ]
  },
  {
   "cell_type": "code",
   "execution_count": 2,
   "metadata": {},
   "outputs": [],
   "source": [
    "import os\n",
    "import math\n",
    "import random\n",
    "import glob\n",
    "import requests\n",
    "from ast import literal_eval\n",
    "from multiprocessing import Process"
   ]
  },
  {
   "cell_type": "code",
   "execution_count": 3,
   "metadata": {},
   "outputs": [],
   "source": [
    "from sklearn.preprocessing import LabelEncoder"
   ]
  },
  {
   "cell_type": "code",
   "execution_count": 4,
   "metadata": {},
   "outputs": [],
   "source": [
    "data_path = './DataSet/'\n",
    "random_state = 42\n",
    "limit = 100000"
   ]
  },
  {
   "cell_type": "code",
   "execution_count": 5,
   "metadata": {},
   "outputs": [
    {
     "name": "stderr",
     "output_type": "stream",
     "text": [
      "/home/avinash/anaconda3/lib/python3.7/site-packages/IPython/core/interactiveshell.py:3058: DtypeWarning: Columns (746,835) have mixed types. Specify dtype option on import or set low_memory=False.\n",
      "  interactivity=interactivity, compiler=compiler, result=result)\n",
      "/home/avinash/anaconda3/lib/python3.7/site-packages/IPython/core/interactiveshell.py:3058: DtypeWarning: Columns (700,731,740,752,761,789,811,820,829,841,850) have mixed types. Specify dtype option on import or set low_memory=False.\n",
      "  interactivity=interactivity, compiler=compiler, result=result)\n"
     ]
    }
   ],
   "source": [
    "train = pd.read_csv(f'{data_path}Train.csv')\n",
    "test = pd.read_csv(f'{data_path}Test.csv')"
   ]
  },
  {
   "cell_type": "code",
   "execution_count": 6,
   "metadata": {},
   "outputs": [],
   "source": [
    "dict_sub = {'Col1':test.Col1,'Col2':np.zeros((test.shape[0],))}\n",
    "sub = pd.DataFrame(dict_sub)\n",
    "sub.to_csv(f'{data_path}Sample_submission.csv',index=False)"
   ]
  },
  {
   "cell_type": "code",
   "execution_count": 7,
   "metadata": {},
   "outputs": [
    {
     "data": {
      "text/plain": [
       "(17521, 2395)"
      ]
     },
     "execution_count": 7,
     "metadata": {},
     "output_type": "execute_result"
    }
   ],
   "source": [
    "train.shape"
   ]
  },
  {
   "cell_type": "code",
   "execution_count": 8,
   "metadata": {},
   "outputs": [
    {
     "data": {
      "text/plain": [
       "(20442, 2394)"
      ]
     },
     "execution_count": 8,
     "metadata": {},
     "output_type": "execute_result"
    }
   ],
   "source": [
    "test.shape"
   ]
  },
  {
   "cell_type": "code",
   "execution_count": 9,
   "metadata": {},
   "outputs": [
    {
     "data": {
      "text/html": [
       "<div>\n",
       "<style scoped>\n",
       "    .dataframe tbody tr th:only-of-type {\n",
       "        vertical-align: middle;\n",
       "    }\n",
       "\n",
       "    .dataframe tbody tr th {\n",
       "        vertical-align: top;\n",
       "    }\n",
       "\n",
       "    .dataframe thead th {\n",
       "        text-align: right;\n",
       "    }\n",
       "</style>\n",
       "<table border=\"1\" class=\"dataframe\">\n",
       "  <thead>\n",
       "    <tr style=\"text-align: right;\">\n",
       "      <th></th>\n",
       "      <th>Col1</th>\n",
       "      <th>Col2</th>\n",
       "      <th>Col3</th>\n",
       "      <th>Col4</th>\n",
       "      <th>Col5</th>\n",
       "      <th>Col6</th>\n",
       "      <th>Col7</th>\n",
       "      <th>Col8</th>\n",
       "      <th>Col9</th>\n",
       "      <th>Col10</th>\n",
       "      <th>...</th>\n",
       "      <th>Col2388</th>\n",
       "      <th>Col2389</th>\n",
       "      <th>Col2390</th>\n",
       "      <th>Col2391</th>\n",
       "      <th>Col2392</th>\n",
       "      <th>Col2393</th>\n",
       "      <th>Col2394</th>\n",
       "      <th>Col2395</th>\n",
       "      <th>Col2396</th>\n",
       "      <th>Col2397</th>\n",
       "    </tr>\n",
       "  </thead>\n",
       "  <tbody>\n",
       "    <tr>\n",
       "      <td>0</td>\n",
       "      <td>RIGHGSN</td>\n",
       "      <td>1</td>\n",
       "      <td>1.086711e+04</td>\n",
       "      <td>8.648345e+03</td>\n",
       "      <td>1.576618e+04</td>\n",
       "      <td>2.890466e+04</td>\n",
       "      <td>5.273655e+03</td>\n",
       "      <td>2.346153e+04</td>\n",
       "      <td>1.285597e+04</td>\n",
       "      <td>2.871509e+04</td>\n",
       "      <td>...</td>\n",
       "      <td>0</td>\n",
       "      <td>1</td>\n",
       "      <td>0</td>\n",
       "      <td>1</td>\n",
       "      <td>214.0</td>\n",
       "      <td>214.0</td>\n",
       "      <td>68.0</td>\n",
       "      <td>22.0</td>\n",
       "      <td>22.0</td>\n",
       "      <td>7.0</td>\n",
       "    </tr>\n",
       "    <tr>\n",
       "      <td>1</td>\n",
       "      <td>RIMHI5ZGP</td>\n",
       "      <td>0</td>\n",
       "      <td>2.584312e+05</td>\n",
       "      <td>2.179633e+05</td>\n",
       "      <td>1.866287e+05</td>\n",
       "      <td>1.866287e+05</td>\n",
       "      <td>2.154519e+05</td>\n",
       "      <td>1.923615e+05</td>\n",
       "      <td>1.726538e+05</td>\n",
       "      <td>1.666974e+05</td>\n",
       "      <td>...</td>\n",
       "      <td>0</td>\n",
       "      <td>0</td>\n",
       "      <td>0</td>\n",
       "      <td>0</td>\n",
       "      <td>41.0</td>\n",
       "      <td>41.0</td>\n",
       "      <td>38.0</td>\n",
       "      <td>12.0</td>\n",
       "      <td>12.0</td>\n",
       "      <td>11.0</td>\n",
       "    </tr>\n",
       "    <tr>\n",
       "      <td>2</td>\n",
       "      <td>RIHOG1SZU</td>\n",
       "      <td>0</td>\n",
       "      <td>1.459355e+07</td>\n",
       "      <td>1.260060e+07</td>\n",
       "      <td>1.100315e+07</td>\n",
       "      <td>1.010315e+07</td>\n",
       "      <td>1.879882e+07</td>\n",
       "      <td>1.514035e+07</td>\n",
       "      <td>5.320778e+06</td>\n",
       "      <td>6.906324e+06</td>\n",
       "      <td>...</td>\n",
       "      <td>0</td>\n",
       "      <td>1</td>\n",
       "      <td>1</td>\n",
       "      <td>0</td>\n",
       "      <td>378.0</td>\n",
       "      <td>378.0</td>\n",
       "      <td>310.0</td>\n",
       "      <td>21.0</td>\n",
       "      <td>21.0</td>\n",
       "      <td>16.0</td>\n",
       "    </tr>\n",
       "    <tr>\n",
       "      <td>3</td>\n",
       "      <td>RIHOLMQWU</td>\n",
       "      <td>0</td>\n",
       "      <td>6.727043e+05</td>\n",
       "      <td>8.181116e+05</td>\n",
       "      <td>6.794893e+05</td>\n",
       "      <td>6.794893e+05</td>\n",
       "      <td>8.257254e+05</td>\n",
       "      <td>7.605803e+05</td>\n",
       "      <td>3.577134e+05</td>\n",
       "      <td>4.236612e+05</td>\n",
       "      <td>...</td>\n",
       "      <td>0</td>\n",
       "      <td>0</td>\n",
       "      <td>0</td>\n",
       "      <td>0</td>\n",
       "      <td>702.0</td>\n",
       "      <td>702.0</td>\n",
       "      <td>644.0</td>\n",
       "      <td>951.0</td>\n",
       "      <td>951.0</td>\n",
       "      <td>743.0</td>\n",
       "    </tr>\n",
       "    <tr>\n",
       "      <td>4</td>\n",
       "      <td>RIHO584ET</td>\n",
       "      <td>0</td>\n",
       "      <td>-1.218742e+06</td>\n",
       "      <td>-3.005361e+06</td>\n",
       "      <td>-1.666241e+05</td>\n",
       "      <td>-2.403574e+06</td>\n",
       "      <td>2.583183e+06</td>\n",
       "      <td>2.086546e+06</td>\n",
       "      <td>5.938358e+06</td>\n",
       "      <td>5.446532e+06</td>\n",
       "      <td>...</td>\n",
       "      <td>0</td>\n",
       "      <td>0</td>\n",
       "      <td>0</td>\n",
       "      <td>0</td>\n",
       "      <td>1305.0</td>\n",
       "      <td>1305.0</td>\n",
       "      <td>1211.0</td>\n",
       "      <td>2205.0</td>\n",
       "      <td>2205.0</td>\n",
       "      <td>1831.0</td>\n",
       "    </tr>\n",
       "  </tbody>\n",
       "</table>\n",
       "<p>5 rows × 2395 columns</p>\n",
       "</div>"
      ],
      "text/plain": [
       "        Col1  Col2          Col3          Col4          Col5          Col6  \\\n",
       "0    RIGHGSN     1  1.086711e+04  8.648345e+03  1.576618e+04  2.890466e+04   \n",
       "1  RIMHI5ZGP     0  2.584312e+05  2.179633e+05  1.866287e+05  1.866287e+05   \n",
       "2  RIHOG1SZU     0  1.459355e+07  1.260060e+07  1.100315e+07  1.010315e+07   \n",
       "3  RIHOLMQWU     0  6.727043e+05  8.181116e+05  6.794893e+05  6.794893e+05   \n",
       "4  RIHO584ET     0 -1.218742e+06 -3.005361e+06 -1.666241e+05 -2.403574e+06   \n",
       "\n",
       "           Col7          Col8          Col9         Col10  ...  Col2388  \\\n",
       "0  5.273655e+03  2.346153e+04  1.285597e+04  2.871509e+04  ...        0   \n",
       "1  2.154519e+05  1.923615e+05  1.726538e+05  1.666974e+05  ...        0   \n",
       "2  1.879882e+07  1.514035e+07  5.320778e+06  6.906324e+06  ...        0   \n",
       "3  8.257254e+05  7.605803e+05  3.577134e+05  4.236612e+05  ...        0   \n",
       "4  2.583183e+06  2.086546e+06  5.938358e+06  5.446532e+06  ...        0   \n",
       "\n",
       "   Col2389  Col2390  Col2391  Col2392  Col2393  Col2394  Col2395  Col2396  \\\n",
       "0        1        0        1    214.0    214.0     68.0     22.0     22.0   \n",
       "1        0        0        0     41.0     41.0     38.0     12.0     12.0   \n",
       "2        1        1        0    378.0    378.0    310.0     21.0     21.0   \n",
       "3        0        0        0    702.0    702.0    644.0    951.0    951.0   \n",
       "4        0        0        0   1305.0   1305.0   1211.0   2205.0   2205.0   \n",
       "\n",
       "   Col2397  \n",
       "0      7.0  \n",
       "1     11.0  \n",
       "2     16.0  \n",
       "3    743.0  \n",
       "4   1831.0  \n",
       "\n",
       "[5 rows x 2395 columns]"
      ]
     },
     "execution_count": 9,
     "metadata": {},
     "output_type": "execute_result"
    }
   ],
   "source": [
    "train.head()"
   ]
  },
  {
   "cell_type": "code",
   "execution_count": 10,
   "metadata": {},
   "outputs": [
    {
     "data": {
      "text/html": [
       "<div>\n",
       "<style scoped>\n",
       "    .dataframe tbody tr th:only-of-type {\n",
       "        vertical-align: middle;\n",
       "    }\n",
       "\n",
       "    .dataframe tbody tr th {\n",
       "        vertical-align: top;\n",
       "    }\n",
       "\n",
       "    .dataframe thead th {\n",
       "        text-align: right;\n",
       "    }\n",
       "</style>\n",
       "<table border=\"1\" class=\"dataframe\">\n",
       "  <thead>\n",
       "    <tr style=\"text-align: right;\">\n",
       "      <th></th>\n",
       "      <th>Col1</th>\n",
       "      <th>Col3</th>\n",
       "      <th>Col4</th>\n",
       "      <th>Col5</th>\n",
       "      <th>Col6</th>\n",
       "      <th>Col7</th>\n",
       "      <th>Col8</th>\n",
       "      <th>Col9</th>\n",
       "      <th>Col10</th>\n",
       "      <th>Col11</th>\n",
       "      <th>...</th>\n",
       "      <th>Col2388</th>\n",
       "      <th>Col2389</th>\n",
       "      <th>Col2390</th>\n",
       "      <th>Col2391</th>\n",
       "      <th>Col2392</th>\n",
       "      <th>Col2393</th>\n",
       "      <th>Col2394</th>\n",
       "      <th>Col2395</th>\n",
       "      <th>Col2396</th>\n",
       "      <th>Col2397</th>\n",
       "    </tr>\n",
       "  </thead>\n",
       "  <tbody>\n",
       "    <tr>\n",
       "      <td>0</td>\n",
       "      <td>RIGD58ZWD</td>\n",
       "      <td>8.167140e+04</td>\n",
       "      <td>8.614542e+04</td>\n",
       "      <td>7.532296e+04</td>\n",
       "      <td>7.532296e+04</td>\n",
       "      <td>1.125174e+05</td>\n",
       "      <td>1.002778e+05</td>\n",
       "      <td>2.038915e+04</td>\n",
       "      <td>3.053853e+04</td>\n",
       "      <td>8.395911e+04</td>\n",
       "      <td>...</td>\n",
       "      <td>0</td>\n",
       "      <td>0</td>\n",
       "      <td>0</td>\n",
       "      <td>0</td>\n",
       "      <td>44.0</td>\n",
       "      <td>44.0</td>\n",
       "      <td>23.0</td>\n",
       "      <td>41.0</td>\n",
       "      <td>41.0</td>\n",
       "      <td>36.0</td>\n",
       "    </tr>\n",
       "    <tr>\n",
       "      <td>1</td>\n",
       "      <td>RIH660YDS</td>\n",
       "      <td>-1.362824e+07</td>\n",
       "      <td>-4.493043e+06</td>\n",
       "      <td>-3.777257e+06</td>\n",
       "      <td>-4.493043e+06</td>\n",
       "      <td>-4.749764e+06</td>\n",
       "      <td>-4.749764e+06</td>\n",
       "      <td>1.147556e+07</td>\n",
       "      <td>1.147556e+07</td>\n",
       "      <td>1.272055e+07</td>\n",
       "      <td>...</td>\n",
       "      <td>1</td>\n",
       "      <td>1</td>\n",
       "      <td>2</td>\n",
       "      <td>2</td>\n",
       "      <td>1234.0</td>\n",
       "      <td>1234.0</td>\n",
       "      <td>680.0</td>\n",
       "      <td>154.0</td>\n",
       "      <td>153.0</td>\n",
       "      <td>86.0</td>\n",
       "    </tr>\n",
       "    <tr>\n",
       "      <td>2</td>\n",
       "      <td>RIH660Q96</td>\n",
       "      <td>1.302700e+06</td>\n",
       "      <td>1.341449e+06</td>\n",
       "      <td>1.240085e+06</td>\n",
       "      <td>1.341449e+06</td>\n",
       "      <td>1.477503e+06</td>\n",
       "      <td>1.477503e+06</td>\n",
       "      <td>3.904086e+05</td>\n",
       "      <td>3.904086e+05</td>\n",
       "      <td>4.979106e+05</td>\n",
       "      <td>...</td>\n",
       "      <td>0</td>\n",
       "      <td>0</td>\n",
       "      <td>0</td>\n",
       "      <td>0</td>\n",
       "      <td>33.0</td>\n",
       "      <td>24.0</td>\n",
       "      <td>19.0</td>\n",
       "      <td>3.0</td>\n",
       "      <td>1.0</td>\n",
       "      <td>1.0</td>\n",
       "    </tr>\n",
       "    <tr>\n",
       "      <td>3</td>\n",
       "      <td>RIYDO15W1</td>\n",
       "      <td>1.932258e+05</td>\n",
       "      <td>1.454433e+05</td>\n",
       "      <td>1.929148e+05</td>\n",
       "      <td>1.454433e+05</td>\n",
       "      <td>1.318250e+04</td>\n",
       "      <td>1.318250e+04</td>\n",
       "      <td>8.650108e+04</td>\n",
       "      <td>8.650108e+04</td>\n",
       "      <td>5.896693e+03</td>\n",
       "      <td>...</td>\n",
       "      <td>0</td>\n",
       "      <td>0</td>\n",
       "      <td>0</td>\n",
       "      <td>0</td>\n",
       "      <td>8.0</td>\n",
       "      <td>8.0</td>\n",
       "      <td>3.0</td>\n",
       "      <td>7.0</td>\n",
       "      <td>7.0</td>\n",
       "      <td>3.0</td>\n",
       "    </tr>\n",
       "    <tr>\n",
       "      <td>4</td>\n",
       "      <td>RIYBGC1ZD</td>\n",
       "      <td>3.913385e+05</td>\n",
       "      <td>1.987337e+05</td>\n",
       "      <td>1.703432e+05</td>\n",
       "      <td>1.987337e+05</td>\n",
       "      <td>3.046536e+05</td>\n",
       "      <td>3.046536e+05</td>\n",
       "      <td>2.528307e+05</td>\n",
       "      <td>2.528307e+05</td>\n",
       "      <td>3.034449e+05</td>\n",
       "      <td>...</td>\n",
       "      <td>0</td>\n",
       "      <td>0</td>\n",
       "      <td>0</td>\n",
       "      <td>0</td>\n",
       "      <td>7.0</td>\n",
       "      <td>7.0</td>\n",
       "      <td>7.0</td>\n",
       "      <td>6.0</td>\n",
       "      <td>6.0</td>\n",
       "      <td>5.0</td>\n",
       "    </tr>\n",
       "  </tbody>\n",
       "</table>\n",
       "<p>5 rows × 2394 columns</p>\n",
       "</div>"
      ],
      "text/plain": [
       "        Col1          Col3          Col4          Col5          Col6  \\\n",
       "0  RIGD58ZWD  8.167140e+04  8.614542e+04  7.532296e+04  7.532296e+04   \n",
       "1  RIH660YDS -1.362824e+07 -4.493043e+06 -3.777257e+06 -4.493043e+06   \n",
       "2  RIH660Q96  1.302700e+06  1.341449e+06  1.240085e+06  1.341449e+06   \n",
       "3  RIYDO15W1  1.932258e+05  1.454433e+05  1.929148e+05  1.454433e+05   \n",
       "4  RIYBGC1ZD  3.913385e+05  1.987337e+05  1.703432e+05  1.987337e+05   \n",
       "\n",
       "           Col7          Col8          Col9         Col10         Col11  ...  \\\n",
       "0  1.125174e+05  1.002778e+05  2.038915e+04  3.053853e+04  8.395911e+04  ...   \n",
       "1 -4.749764e+06 -4.749764e+06  1.147556e+07  1.147556e+07  1.272055e+07  ...   \n",
       "2  1.477503e+06  1.477503e+06  3.904086e+05  3.904086e+05  4.979106e+05  ...   \n",
       "3  1.318250e+04  1.318250e+04  8.650108e+04  8.650108e+04  5.896693e+03  ...   \n",
       "4  3.046536e+05  3.046536e+05  2.528307e+05  2.528307e+05  3.034449e+05  ...   \n",
       "\n",
       "   Col2388  Col2389  Col2390  Col2391  Col2392  Col2393  Col2394  Col2395  \\\n",
       "0        0        0        0        0     44.0     44.0     23.0     41.0   \n",
       "1        1        1        2        2   1234.0   1234.0    680.0    154.0   \n",
       "2        0        0        0        0     33.0     24.0     19.0      3.0   \n",
       "3        0        0        0        0      8.0      8.0      3.0      7.0   \n",
       "4        0        0        0        0      7.0      7.0      7.0      6.0   \n",
       "\n",
       "   Col2396  Col2397  \n",
       "0     41.0     36.0  \n",
       "1    153.0     86.0  \n",
       "2      1.0      1.0  \n",
       "3      7.0      3.0  \n",
       "4      6.0      5.0  \n",
       "\n",
       "[5 rows x 2394 columns]"
      ]
     },
     "execution_count": 10,
     "metadata": {},
     "output_type": "execute_result"
    }
   ],
   "source": [
    "test.head()"
   ]
  },
  {
   "cell_type": "code",
   "execution_count": 11,
   "metadata": {},
   "outputs": [
    {
     "data": {
      "text/plain": [
       "0    15760\n",
       "1     1761\n",
       "Name: Col2, dtype: int64"
      ]
     },
     "execution_count": 11,
     "metadata": {},
     "output_type": "execute_result"
    }
   ],
   "source": [
    "train.Col2.value_counts()"
   ]
  },
  {
   "cell_type": "code",
   "execution_count": 12,
   "metadata": {},
   "outputs": [
    {
     "data": {
      "text/plain": [
       "17521"
      ]
     },
     "execution_count": 12,
     "metadata": {},
     "output_type": "execute_result"
    }
   ],
   "source": [
    "len(train.Col1.unique())"
   ]
  },
  {
   "cell_type": "code",
   "execution_count": 13,
   "metadata": {},
   "outputs": [
    {
     "data": {
      "text/html": [
       "<div>\n",
       "<style scoped>\n",
       "    .dataframe tbody tr th:only-of-type {\n",
       "        vertical-align: middle;\n",
       "    }\n",
       "\n",
       "    .dataframe tbody tr th {\n",
       "        vertical-align: top;\n",
       "    }\n",
       "\n",
       "    .dataframe thead th {\n",
       "        text-align: right;\n",
       "    }\n",
       "</style>\n",
       "<table border=\"1\" class=\"dataframe\">\n",
       "  <thead>\n",
       "    <tr style=\"text-align: right;\">\n",
       "      <th></th>\n",
       "      <th>Col2</th>\n",
       "      <th>Col3</th>\n",
       "      <th>Col4</th>\n",
       "      <th>Col5</th>\n",
       "      <th>Col6</th>\n",
       "      <th>Col7</th>\n",
       "      <th>Col8</th>\n",
       "      <th>Col9</th>\n",
       "      <th>Col10</th>\n",
       "      <th>Col11</th>\n",
       "      <th>...</th>\n",
       "      <th>Col2388</th>\n",
       "      <th>Col2389</th>\n",
       "      <th>Col2390</th>\n",
       "      <th>Col2391</th>\n",
       "      <th>Col2392</th>\n",
       "      <th>Col2393</th>\n",
       "      <th>Col2394</th>\n",
       "      <th>Col2395</th>\n",
       "      <th>Col2396</th>\n",
       "      <th>Col2397</th>\n",
       "    </tr>\n",
       "  </thead>\n",
       "  <tbody>\n",
       "    <tr>\n",
       "      <td>count</td>\n",
       "      <td>17521.000000</td>\n",
       "      <td>1.752100e+04</td>\n",
       "      <td>1.752100e+04</td>\n",
       "      <td>1.752100e+04</td>\n",
       "      <td>1.752100e+04</td>\n",
       "      <td>1.752100e+04</td>\n",
       "      <td>1.752100e+04</td>\n",
       "      <td>1.752100e+04</td>\n",
       "      <td>1.752100e+04</td>\n",
       "      <td>1.752100e+04</td>\n",
       "      <td>...</td>\n",
       "      <td>17521.000000</td>\n",
       "      <td>17521.000000</td>\n",
       "      <td>17521.000000</td>\n",
       "      <td>17521.000000</td>\n",
       "      <td>16347.000000</td>\n",
       "      <td>16347.000000</td>\n",
       "      <td>16335.000000</td>\n",
       "      <td>16347.00000</td>\n",
       "      <td>16347.000000</td>\n",
       "      <td>16335.000000</td>\n",
       "    </tr>\n",
       "    <tr>\n",
       "      <td>mean</td>\n",
       "      <td>0.100508</td>\n",
       "      <td>3.158967e+04</td>\n",
       "      <td>2.046540e+04</td>\n",
       "      <td>2.502937e+04</td>\n",
       "      <td>2.789385e+04</td>\n",
       "      <td>2.597734e+04</td>\n",
       "      <td>3.302600e+04</td>\n",
       "      <td>2.912693e+04</td>\n",
       "      <td>2.971069e+04</td>\n",
       "      <td>3.617392e+04</td>\n",
       "      <td>...</td>\n",
       "      <td>0.736202</td>\n",
       "      <td>0.595343</td>\n",
       "      <td>0.773757</td>\n",
       "      <td>0.639005</td>\n",
       "      <td>55.540038</td>\n",
       "      <td>55.015416</td>\n",
       "      <td>35.180961</td>\n",
       "      <td>17.99584</td>\n",
       "      <td>17.539977</td>\n",
       "      <td>10.359657</td>\n",
       "    </tr>\n",
       "    <tr>\n",
       "      <td>std</td>\n",
       "      <td>0.300685</td>\n",
       "      <td>7.612897e+05</td>\n",
       "      <td>7.136908e+05</td>\n",
       "      <td>6.018207e+05</td>\n",
       "      <td>6.091245e+05</td>\n",
       "      <td>7.211998e+05</td>\n",
       "      <td>7.488433e+05</td>\n",
       "      <td>2.175595e+05</td>\n",
       "      <td>2.981508e+05</td>\n",
       "      <td>2.612427e+05</td>\n",
       "      <td>...</td>\n",
       "      <td>0.910828</td>\n",
       "      <td>0.784953</td>\n",
       "      <td>0.921805</td>\n",
       "      <td>0.806286</td>\n",
       "      <td>53.269618</td>\n",
       "      <td>52.697069</td>\n",
       "      <td>34.956016</td>\n",
       "      <td>24.83891</td>\n",
       "      <td>24.685954</td>\n",
       "      <td>18.476447</td>\n",
       "    </tr>\n",
       "    <tr>\n",
       "      <td>min</td>\n",
       "      <td>0.000000</td>\n",
       "      <td>-8.555719e+07</td>\n",
       "      <td>-8.555719e+07</td>\n",
       "      <td>-7.011955e+07</td>\n",
       "      <td>-7.100920e+07</td>\n",
       "      <td>-8.480658e+07</td>\n",
       "      <td>-9.016250e+07</td>\n",
       "      <td>0.000000e+00</td>\n",
       "      <td>0.000000e+00</td>\n",
       "      <td>0.000000e+00</td>\n",
       "      <td>...</td>\n",
       "      <td>0.000000</td>\n",
       "      <td>0.000000</td>\n",
       "      <td>0.000000</td>\n",
       "      <td>0.000000</td>\n",
       "      <td>0.000000</td>\n",
       "      <td>0.000000</td>\n",
       "      <td>0.000000</td>\n",
       "      <td>0.00000</td>\n",
       "      <td>0.000000</td>\n",
       "      <td>0.000000</td>\n",
       "    </tr>\n",
       "    <tr>\n",
       "      <td>25%</td>\n",
       "      <td>0.000000</td>\n",
       "      <td>2.742337e+03</td>\n",
       "      <td>2.007863e+03</td>\n",
       "      <td>1.857013e+03</td>\n",
       "      <td>2.562647e+03</td>\n",
       "      <td>2.973188e+03</td>\n",
       "      <td>3.822170e+03</td>\n",
       "      <td>1.824148e+03</td>\n",
       "      <td>1.787456e+03</td>\n",
       "      <td>3.505288e+03</td>\n",
       "      <td>...</td>\n",
       "      <td>0.000000</td>\n",
       "      <td>0.000000</td>\n",
       "      <td>0.000000</td>\n",
       "      <td>0.000000</td>\n",
       "      <td>21.000000</td>\n",
       "      <td>21.000000</td>\n",
       "      <td>12.000000</td>\n",
       "      <td>9.00000</td>\n",
       "      <td>9.000000</td>\n",
       "      <td>5.000000</td>\n",
       "    </tr>\n",
       "    <tr>\n",
       "      <td>50%</td>\n",
       "      <td>0.000000</td>\n",
       "      <td>9.308060e+03</td>\n",
       "      <td>6.642857e+03</td>\n",
       "      <td>6.236503e+03</td>\n",
       "      <td>8.464355e+03</td>\n",
       "      <td>1.036962e+04</td>\n",
       "      <td>1.303534e+04</td>\n",
       "      <td>5.705458e+03</td>\n",
       "      <td>5.536147e+03</td>\n",
       "      <td>8.832639e+03</td>\n",
       "      <td>...</td>\n",
       "      <td>0.000000</td>\n",
       "      <td>0.000000</td>\n",
       "      <td>0.000000</td>\n",
       "      <td>0.000000</td>\n",
       "      <td>42.000000</td>\n",
       "      <td>42.000000</td>\n",
       "      <td>27.000000</td>\n",
       "      <td>13.00000</td>\n",
       "      <td>13.000000</td>\n",
       "      <td>7.000000</td>\n",
       "    </tr>\n",
       "    <tr>\n",
       "      <td>75%</td>\n",
       "      <td>0.000000</td>\n",
       "      <td>3.053873e+04</td>\n",
       "      <td>2.156093e+04</td>\n",
       "      <td>2.068154e+04</td>\n",
       "      <td>2.773849e+04</td>\n",
       "      <td>2.645998e+04</td>\n",
       "      <td>3.359204e+04</td>\n",
       "      <td>1.852222e+04</td>\n",
       "      <td>1.753976e+04</td>\n",
       "      <td>2.341911e+04</td>\n",
       "      <td>...</td>\n",
       "      <td>1.000000</td>\n",
       "      <td>1.000000</td>\n",
       "      <td>1.000000</td>\n",
       "      <td>1.000000</td>\n",
       "      <td>74.000000</td>\n",
       "      <td>73.000000</td>\n",
       "      <td>47.000000</td>\n",
       "      <td>21.00000</td>\n",
       "      <td>21.000000</td>\n",
       "      <td>12.000000</td>\n",
       "    </tr>\n",
       "    <tr>\n",
       "      <td>max</td>\n",
       "      <td>1.000000</td>\n",
       "      <td>1.459355e+07</td>\n",
       "      <td>1.288980e+07</td>\n",
       "      <td>1.478068e+07</td>\n",
       "      <td>1.178075e+07</td>\n",
       "      <td>1.879882e+07</td>\n",
       "      <td>1.514035e+07</td>\n",
       "      <td>1.125630e+07</td>\n",
       "      <td>2.788633e+07</td>\n",
       "      <td>1.314762e+07</td>\n",
       "      <td>...</td>\n",
       "      <td>4.000000</td>\n",
       "      <td>4.000000</td>\n",
       "      <td>4.000000</td>\n",
       "      <td>4.000000</td>\n",
       "      <td>1305.000000</td>\n",
       "      <td>1305.000000</td>\n",
       "      <td>1211.000000</td>\n",
       "      <td>2205.00000</td>\n",
       "      <td>2205.000000</td>\n",
       "      <td>1831.000000</td>\n",
       "    </tr>\n",
       "  </tbody>\n",
       "</table>\n",
       "<p>8 rows × 2392 columns</p>\n",
       "</div>"
      ],
      "text/plain": [
       "               Col2          Col3          Col4          Col5          Col6  \\\n",
       "count  17521.000000  1.752100e+04  1.752100e+04  1.752100e+04  1.752100e+04   \n",
       "mean       0.100508  3.158967e+04  2.046540e+04  2.502937e+04  2.789385e+04   \n",
       "std        0.300685  7.612897e+05  7.136908e+05  6.018207e+05  6.091245e+05   \n",
       "min        0.000000 -8.555719e+07 -8.555719e+07 -7.011955e+07 -7.100920e+07   \n",
       "25%        0.000000  2.742337e+03  2.007863e+03  1.857013e+03  2.562647e+03   \n",
       "50%        0.000000  9.308060e+03  6.642857e+03  6.236503e+03  8.464355e+03   \n",
       "75%        0.000000  3.053873e+04  2.156093e+04  2.068154e+04  2.773849e+04   \n",
       "max        1.000000  1.459355e+07  1.288980e+07  1.478068e+07  1.178075e+07   \n",
       "\n",
       "               Col7          Col8          Col9         Col10         Col11  \\\n",
       "count  1.752100e+04  1.752100e+04  1.752100e+04  1.752100e+04  1.752100e+04   \n",
       "mean   2.597734e+04  3.302600e+04  2.912693e+04  2.971069e+04  3.617392e+04   \n",
       "std    7.211998e+05  7.488433e+05  2.175595e+05  2.981508e+05  2.612427e+05   \n",
       "min   -8.480658e+07 -9.016250e+07  0.000000e+00  0.000000e+00  0.000000e+00   \n",
       "25%    2.973188e+03  3.822170e+03  1.824148e+03  1.787456e+03  3.505288e+03   \n",
       "50%    1.036962e+04  1.303534e+04  5.705458e+03  5.536147e+03  8.832639e+03   \n",
       "75%    2.645998e+04  3.359204e+04  1.852222e+04  1.753976e+04  2.341911e+04   \n",
       "max    1.879882e+07  1.514035e+07  1.125630e+07  2.788633e+07  1.314762e+07   \n",
       "\n",
       "       ...       Col2388       Col2389       Col2390       Col2391  \\\n",
       "count  ...  17521.000000  17521.000000  17521.000000  17521.000000   \n",
       "mean   ...      0.736202      0.595343      0.773757      0.639005   \n",
       "std    ...      0.910828      0.784953      0.921805      0.806286   \n",
       "min    ...      0.000000      0.000000      0.000000      0.000000   \n",
       "25%    ...      0.000000      0.000000      0.000000      0.000000   \n",
       "50%    ...      0.000000      0.000000      0.000000      0.000000   \n",
       "75%    ...      1.000000      1.000000      1.000000      1.000000   \n",
       "max    ...      4.000000      4.000000      4.000000      4.000000   \n",
       "\n",
       "            Col2392       Col2393       Col2394      Col2395       Col2396  \\\n",
       "count  16347.000000  16347.000000  16335.000000  16347.00000  16347.000000   \n",
       "mean      55.540038     55.015416     35.180961     17.99584     17.539977   \n",
       "std       53.269618     52.697069     34.956016     24.83891     24.685954   \n",
       "min        0.000000      0.000000      0.000000      0.00000      0.000000   \n",
       "25%       21.000000     21.000000     12.000000      9.00000      9.000000   \n",
       "50%       42.000000     42.000000     27.000000     13.00000     13.000000   \n",
       "75%       74.000000     73.000000     47.000000     21.00000     21.000000   \n",
       "max     1305.000000   1305.000000   1211.000000   2205.00000   2205.000000   \n",
       "\n",
       "            Col2397  \n",
       "count  16335.000000  \n",
       "mean      10.359657  \n",
       "std       18.476447  \n",
       "min        0.000000  \n",
       "25%        5.000000  \n",
       "50%        7.000000  \n",
       "75%       12.000000  \n",
       "max     1831.000000  \n",
       "\n",
       "[8 rows x 2392 columns]"
      ]
     },
     "execution_count": 13,
     "metadata": {},
     "output_type": "execute_result"
    }
   ],
   "source": [
    "train.describe()"
   ]
  },
  {
   "cell_type": "code",
   "execution_count": 14,
   "metadata": {},
   "outputs": [
    {
     "data": {
      "text/html": [
       "<div>\n",
       "<style scoped>\n",
       "    .dataframe tbody tr th:only-of-type {\n",
       "        vertical-align: middle;\n",
       "    }\n",
       "\n",
       "    .dataframe tbody tr th {\n",
       "        vertical-align: top;\n",
       "    }\n",
       "\n",
       "    .dataframe thead th {\n",
       "        text-align: right;\n",
       "    }\n",
       "</style>\n",
       "<table border=\"1\" class=\"dataframe\">\n",
       "  <thead>\n",
       "    <tr style=\"text-align: right;\">\n",
       "      <th></th>\n",
       "      <th>Col3</th>\n",
       "      <th>Col4</th>\n",
       "      <th>Col5</th>\n",
       "      <th>Col6</th>\n",
       "      <th>Col7</th>\n",
       "      <th>Col8</th>\n",
       "      <th>Col9</th>\n",
       "      <th>Col10</th>\n",
       "      <th>Col11</th>\n",
       "      <th>Col12</th>\n",
       "      <th>...</th>\n",
       "      <th>Col2388</th>\n",
       "      <th>Col2389</th>\n",
       "      <th>Col2390</th>\n",
       "      <th>Col2391</th>\n",
       "      <th>Col2392</th>\n",
       "      <th>Col2393</th>\n",
       "      <th>Col2394</th>\n",
       "      <th>Col2395</th>\n",
       "      <th>Col2396</th>\n",
       "      <th>Col2397</th>\n",
       "    </tr>\n",
       "  </thead>\n",
       "  <tbody>\n",
       "    <tr>\n",
       "      <td>count</td>\n",
       "      <td>2.044200e+04</td>\n",
       "      <td>2.044200e+04</td>\n",
       "      <td>2.044200e+04</td>\n",
       "      <td>2.044200e+04</td>\n",
       "      <td>2.044200e+04</td>\n",
       "      <td>2.044200e+04</td>\n",
       "      <td>2.044200e+04</td>\n",
       "      <td>2.044200e+04</td>\n",
       "      <td>2.044200e+04</td>\n",
       "      <td>2.044200e+04</td>\n",
       "      <td>...</td>\n",
       "      <td>20442.000000</td>\n",
       "      <td>20442.000000</td>\n",
       "      <td>20442.000000</td>\n",
       "      <td>20442.000000</td>\n",
       "      <td>19183.000000</td>\n",
       "      <td>19183.000000</td>\n",
       "      <td>19164.000000</td>\n",
       "      <td>19183.000000</td>\n",
       "      <td>19183.000000</td>\n",
       "      <td>19164.000000</td>\n",
       "    </tr>\n",
       "    <tr>\n",
       "      <td>mean</td>\n",
       "      <td>3.749822e+04</td>\n",
       "      <td>2.360107e+04</td>\n",
       "      <td>3.099296e+04</td>\n",
       "      <td>3.153122e+04</td>\n",
       "      <td>2.728287e+04</td>\n",
       "      <td>3.625497e+04</td>\n",
       "      <td>3.282116e+04</td>\n",
       "      <td>3.295643e+04</td>\n",
       "      <td>3.903867e+04</td>\n",
       "      <td>3.901378e+04</td>\n",
       "      <td>...</td>\n",
       "      <td>0.634674</td>\n",
       "      <td>0.558262</td>\n",
       "      <td>0.670238</td>\n",
       "      <td>0.589864</td>\n",
       "      <td>49.688474</td>\n",
       "      <td>49.131366</td>\n",
       "      <td>31.288614</td>\n",
       "      <td>17.008341</td>\n",
       "      <td>16.527238</td>\n",
       "      <td>9.726936</td>\n",
       "    </tr>\n",
       "    <tr>\n",
       "      <td>std</td>\n",
       "      <td>8.090349e+05</td>\n",
       "      <td>6.659282e+05</td>\n",
       "      <td>6.434903e+05</td>\n",
       "      <td>6.422364e+05</td>\n",
       "      <td>6.588844e+05</td>\n",
       "      <td>6.710696e+05</td>\n",
       "      <td>3.642904e+05</td>\n",
       "      <td>3.831866e+05</td>\n",
       "      <td>4.169885e+05</td>\n",
       "      <td>4.400329e+05</td>\n",
       "      <td>...</td>\n",
       "      <td>0.853880</td>\n",
       "      <td>0.784091</td>\n",
       "      <td>0.867530</td>\n",
       "      <td>0.796850</td>\n",
       "      <td>62.765442</td>\n",
       "      <td>61.032971</td>\n",
       "      <td>38.698616</td>\n",
       "      <td>29.464562</td>\n",
       "      <td>29.155274</td>\n",
       "      <td>17.616897</td>\n",
       "    </tr>\n",
       "    <tr>\n",
       "      <td>min</td>\n",
       "      <td>-6.766640e+07</td>\n",
       "      <td>-6.416449e+07</td>\n",
       "      <td>-2.951962e+07</td>\n",
       "      <td>-5.160258e+07</td>\n",
       "      <td>-6.282747e+07</td>\n",
       "      <td>-5.448213e+07</td>\n",
       "      <td>0.000000e+00</td>\n",
       "      <td>0.000000e+00</td>\n",
       "      <td>0.000000e+00</td>\n",
       "      <td>0.000000e+00</td>\n",
       "      <td>...</td>\n",
       "      <td>0.000000</td>\n",
       "      <td>0.000000</td>\n",
       "      <td>0.000000</td>\n",
       "      <td>0.000000</td>\n",
       "      <td>0.000000</td>\n",
       "      <td>0.000000</td>\n",
       "      <td>0.000000</td>\n",
       "      <td>1.000000</td>\n",
       "      <td>1.000000</td>\n",
       "      <td>0.000000</td>\n",
       "    </tr>\n",
       "    <tr>\n",
       "      <td>25%</td>\n",
       "      <td>3.037609e+03</td>\n",
       "      <td>2.255115e+03</td>\n",
       "      <td>2.081114e+03</td>\n",
       "      <td>2.788630e+03</td>\n",
       "      <td>3.028607e+03</td>\n",
       "      <td>3.903768e+03</td>\n",
       "      <td>1.966539e+03</td>\n",
       "      <td>1.908582e+03</td>\n",
       "      <td>3.270135e+03</td>\n",
       "      <td>2.960897e+03</td>\n",
       "      <td>...</td>\n",
       "      <td>0.000000</td>\n",
       "      <td>0.000000</td>\n",
       "      <td>0.000000</td>\n",
       "      <td>0.000000</td>\n",
       "      <td>16.000000</td>\n",
       "      <td>16.000000</td>\n",
       "      <td>10.000000</td>\n",
       "      <td>8.000000</td>\n",
       "      <td>8.000000</td>\n",
       "      <td>4.000000</td>\n",
       "    </tr>\n",
       "    <tr>\n",
       "      <td>50%</td>\n",
       "      <td>1.076447e+04</td>\n",
       "      <td>7.793441e+03</td>\n",
       "      <td>7.511782e+03</td>\n",
       "      <td>1.022429e+04</td>\n",
       "      <td>1.075722e+04</td>\n",
       "      <td>1.369641e+04</td>\n",
       "      <td>6.529336e+03</td>\n",
       "      <td>6.173574e+03</td>\n",
       "      <td>8.926603e+03</td>\n",
       "      <td>8.363056e+03</td>\n",
       "      <td>...</td>\n",
       "      <td>0.000000</td>\n",
       "      <td>0.000000</td>\n",
       "      <td>0.000000</td>\n",
       "      <td>0.000000</td>\n",
       "      <td>35.000000</td>\n",
       "      <td>35.000000</td>\n",
       "      <td>22.000000</td>\n",
       "      <td>12.000000</td>\n",
       "      <td>12.000000</td>\n",
       "      <td>7.000000</td>\n",
       "    </tr>\n",
       "    <tr>\n",
       "      <td>75%</td>\n",
       "      <td>3.444611e+04</td>\n",
       "      <td>2.380610e+04</td>\n",
       "      <td>2.329657e+04</td>\n",
       "      <td>3.127464e+04</td>\n",
       "      <td>2.776564e+04</td>\n",
       "      <td>3.611465e+04</td>\n",
       "      <td>2.015090e+04</td>\n",
       "      <td>1.929168e+04</td>\n",
       "      <td>2.482480e+04</td>\n",
       "      <td>2.306036e+04</td>\n",
       "      <td>...</td>\n",
       "      <td>1.000000</td>\n",
       "      <td>1.000000</td>\n",
       "      <td>1.000000</td>\n",
       "      <td>1.000000</td>\n",
       "      <td>65.000000</td>\n",
       "      <td>64.000000</td>\n",
       "      <td>42.000000</td>\n",
       "      <td>20.000000</td>\n",
       "      <td>19.000000</td>\n",
       "      <td>12.000000</td>\n",
       "    </tr>\n",
       "    <tr>\n",
       "      <td>max</td>\n",
       "      <td>3.861868e+07</td>\n",
       "      <td>3.024852e+07</td>\n",
       "      <td>6.325956e+07</td>\n",
       "      <td>2.766654e+07</td>\n",
       "      <td>2.193012e+07</td>\n",
       "      <td>2.229041e+07</td>\n",
       "      <td>3.463760e+07</td>\n",
       "      <td>3.277868e+07</td>\n",
       "      <td>4.255362e+07</td>\n",
       "      <td>3.969719e+07</td>\n",
       "      <td>...</td>\n",
       "      <td>4.000000</td>\n",
       "      <td>4.000000</td>\n",
       "      <td>4.000000</td>\n",
       "      <td>4.000000</td>\n",
       "      <td>3598.000000</td>\n",
       "      <td>3597.000000</td>\n",
       "      <td>1946.000000</td>\n",
       "      <td>3104.000000</td>\n",
       "      <td>3104.000000</td>\n",
       "      <td>1745.000000</td>\n",
       "    </tr>\n",
       "  </tbody>\n",
       "</table>\n",
       "<p>8 rows × 2382 columns</p>\n",
       "</div>"
      ],
      "text/plain": [
       "               Col3          Col4          Col5          Col6          Col7  \\\n",
       "count  2.044200e+04  2.044200e+04  2.044200e+04  2.044200e+04  2.044200e+04   \n",
       "mean   3.749822e+04  2.360107e+04  3.099296e+04  3.153122e+04  2.728287e+04   \n",
       "std    8.090349e+05  6.659282e+05  6.434903e+05  6.422364e+05  6.588844e+05   \n",
       "min   -6.766640e+07 -6.416449e+07 -2.951962e+07 -5.160258e+07 -6.282747e+07   \n",
       "25%    3.037609e+03  2.255115e+03  2.081114e+03  2.788630e+03  3.028607e+03   \n",
       "50%    1.076447e+04  7.793441e+03  7.511782e+03  1.022429e+04  1.075722e+04   \n",
       "75%    3.444611e+04  2.380610e+04  2.329657e+04  3.127464e+04  2.776564e+04   \n",
       "max    3.861868e+07  3.024852e+07  6.325956e+07  2.766654e+07  2.193012e+07   \n",
       "\n",
       "               Col8          Col9         Col10         Col11         Col12  \\\n",
       "count  2.044200e+04  2.044200e+04  2.044200e+04  2.044200e+04  2.044200e+04   \n",
       "mean   3.625497e+04  3.282116e+04  3.295643e+04  3.903867e+04  3.901378e+04   \n",
       "std    6.710696e+05  3.642904e+05  3.831866e+05  4.169885e+05  4.400329e+05   \n",
       "min   -5.448213e+07  0.000000e+00  0.000000e+00  0.000000e+00  0.000000e+00   \n",
       "25%    3.903768e+03  1.966539e+03  1.908582e+03  3.270135e+03  2.960897e+03   \n",
       "50%    1.369641e+04  6.529336e+03  6.173574e+03  8.926603e+03  8.363056e+03   \n",
       "75%    3.611465e+04  2.015090e+04  1.929168e+04  2.482480e+04  2.306036e+04   \n",
       "max    2.229041e+07  3.463760e+07  3.277868e+07  4.255362e+07  3.969719e+07   \n",
       "\n",
       "       ...       Col2388       Col2389       Col2390       Col2391  \\\n",
       "count  ...  20442.000000  20442.000000  20442.000000  20442.000000   \n",
       "mean   ...      0.634674      0.558262      0.670238      0.589864   \n",
       "std    ...      0.853880      0.784091      0.867530      0.796850   \n",
       "min    ...      0.000000      0.000000      0.000000      0.000000   \n",
       "25%    ...      0.000000      0.000000      0.000000      0.000000   \n",
       "50%    ...      0.000000      0.000000      0.000000      0.000000   \n",
       "75%    ...      1.000000      1.000000      1.000000      1.000000   \n",
       "max    ...      4.000000      4.000000      4.000000      4.000000   \n",
       "\n",
       "            Col2392       Col2393       Col2394       Col2395       Col2396  \\\n",
       "count  19183.000000  19183.000000  19164.000000  19183.000000  19183.000000   \n",
       "mean      49.688474     49.131366     31.288614     17.008341     16.527238   \n",
       "std       62.765442     61.032971     38.698616     29.464562     29.155274   \n",
       "min        0.000000      0.000000      0.000000      1.000000      1.000000   \n",
       "25%       16.000000     16.000000     10.000000      8.000000      8.000000   \n",
       "50%       35.000000     35.000000     22.000000     12.000000     12.000000   \n",
       "75%       65.000000     64.000000     42.000000     20.000000     19.000000   \n",
       "max     3598.000000   3597.000000   1946.000000   3104.000000   3104.000000   \n",
       "\n",
       "            Col2397  \n",
       "count  19164.000000  \n",
       "mean       9.726936  \n",
       "std       17.616897  \n",
       "min        0.000000  \n",
       "25%        4.000000  \n",
       "50%        7.000000  \n",
       "75%       12.000000  \n",
       "max     1745.000000  \n",
       "\n",
       "[8 rows x 2382 columns]"
      ]
     },
     "execution_count": 14,
     "metadata": {},
     "output_type": "execute_result"
    }
   ],
   "source": [
    "test.describe()"
   ]
  },
  {
   "cell_type": "code",
   "execution_count": 15,
   "metadata": {},
   "outputs": [
    {
     "name": "stdout",
     "output_type": "stream",
     "text": [
      "<class 'pandas.core.frame.DataFrame'>\n",
      "RangeIndex: 17521 entries, 0 to 17520\n",
      "Columns: 2395 entries, Col1 to Col2397\n",
      "dtypes: float64(844), int64(1548), object(3)\n",
      "memory usage: 320.2+ MB\n"
     ]
    }
   ],
   "source": [
    "train.info()"
   ]
  },
  {
   "cell_type": "code",
   "execution_count": 16,
   "metadata": {},
   "outputs": [
    {
     "name": "stdout",
     "output_type": "stream",
     "text": [
      "<class 'pandas.core.frame.DataFrame'>\n",
      "RangeIndex: 20442 entries, 0 to 20441\n",
      "Columns: 2394 entries, Col1 to Col2397\n",
      "dtypes: float64(837), int64(1545), object(12)\n",
      "memory usage: 373.4+ MB\n"
     ]
    }
   ],
   "source": [
    "test.info()"
   ]
  },
  {
   "cell_type": "code",
   "execution_count": 17,
   "metadata": {},
   "outputs": [],
   "source": [
    "train[train.Col2 == 1].to_csv(f'{data_path}only1.csv',index=False)"
   ]
  },
  {
   "cell_type": "code",
   "execution_count": 18,
   "metadata": {},
   "outputs": [],
   "source": [
    "# s = [str(x) for x in train.iloc[17450].values]\n",
    "# with open(f'{data_path}example.txt','w') as f:\n",
    "#     for x in s:\n",
    "#         f.write(x+'\\n')\n",
    "#     f.close()"
   ]
  },
  {
   "cell_type": "code",
   "execution_count": 19,
   "metadata": {},
   "outputs": [],
   "source": [
    "def splitVal(val):\n",
    "    p1=[]\n",
    "    p2=[]\n",
    "    p3=[]\n",
    "    for x in val:\n",
    "        p1.append(x[:3])\n",
    "        p2.append(x[3:6])\n",
    "        p3.append(x[6:])\n",
    "    return p1,p2,p3"
   ]
  },
  {
   "cell_type": "code",
   "execution_count": 20,
   "metadata": {},
   "outputs": [],
   "source": [
    "x,y,z = splitVal(train['Col1'])\n",
    "train['Col1_1'] = x\n",
    "train['Col1_2'] = y\n",
    "train['Col1_3'] = z\n",
    "x,y,z = splitVal(test['Col1'])\n",
    "test['Col1_1'] = x\n",
    "test['Col1_2'] = y\n",
    "test['Col1_3'] = z"
   ]
  },
  {
   "cell_type": "code",
   "execution_count": 21,
   "metadata": {},
   "outputs": [
    {
     "data": {
      "text/html": [
       "<div>\n",
       "<style scoped>\n",
       "    .dataframe tbody tr th:only-of-type {\n",
       "        vertical-align: middle;\n",
       "    }\n",
       "\n",
       "    .dataframe tbody tr th {\n",
       "        vertical-align: top;\n",
       "    }\n",
       "\n",
       "    .dataframe thead th {\n",
       "        text-align: right;\n",
       "    }\n",
       "</style>\n",
       "<table border=\"1\" class=\"dataframe\">\n",
       "  <thead>\n",
       "    <tr style=\"text-align: right;\">\n",
       "      <th></th>\n",
       "      <th>Col1</th>\n",
       "      <th>Col2</th>\n",
       "      <th>Col3</th>\n",
       "      <th>Col4</th>\n",
       "      <th>Col5</th>\n",
       "      <th>Col6</th>\n",
       "      <th>Col7</th>\n",
       "      <th>Col8</th>\n",
       "      <th>Col9</th>\n",
       "      <th>Col10</th>\n",
       "      <th>...</th>\n",
       "      <th>Col2391</th>\n",
       "      <th>Col2392</th>\n",
       "      <th>Col2393</th>\n",
       "      <th>Col2394</th>\n",
       "      <th>Col2395</th>\n",
       "      <th>Col2396</th>\n",
       "      <th>Col2397</th>\n",
       "      <th>Col1_1</th>\n",
       "      <th>Col1_2</th>\n",
       "      <th>Col1_3</th>\n",
       "    </tr>\n",
       "  </thead>\n",
       "  <tbody>\n",
       "    <tr>\n",
       "      <td>0</td>\n",
       "      <td>RIGHGSN</td>\n",
       "      <td>1</td>\n",
       "      <td>1.086711e+04</td>\n",
       "      <td>8.648345e+03</td>\n",
       "      <td>1.576618e+04</td>\n",
       "      <td>2.890466e+04</td>\n",
       "      <td>5.273655e+03</td>\n",
       "      <td>2.346153e+04</td>\n",
       "      <td>1.285597e+04</td>\n",
       "      <td>2.871509e+04</td>\n",
       "      <td>...</td>\n",
       "      <td>1</td>\n",
       "      <td>214.0</td>\n",
       "      <td>214.0</td>\n",
       "      <td>68.0</td>\n",
       "      <td>22.0</td>\n",
       "      <td>22.0</td>\n",
       "      <td>7.0</td>\n",
       "      <td>RIG</td>\n",
       "      <td>HGS</td>\n",
       "      <td>N</td>\n",
       "    </tr>\n",
       "    <tr>\n",
       "      <td>1</td>\n",
       "      <td>RIMHI5ZGP</td>\n",
       "      <td>0</td>\n",
       "      <td>2.584312e+05</td>\n",
       "      <td>2.179633e+05</td>\n",
       "      <td>1.866287e+05</td>\n",
       "      <td>1.866287e+05</td>\n",
       "      <td>2.154519e+05</td>\n",
       "      <td>1.923615e+05</td>\n",
       "      <td>1.726538e+05</td>\n",
       "      <td>1.666974e+05</td>\n",
       "      <td>...</td>\n",
       "      <td>0</td>\n",
       "      <td>41.0</td>\n",
       "      <td>41.0</td>\n",
       "      <td>38.0</td>\n",
       "      <td>12.0</td>\n",
       "      <td>12.0</td>\n",
       "      <td>11.0</td>\n",
       "      <td>RIM</td>\n",
       "      <td>HI5</td>\n",
       "      <td>ZGP</td>\n",
       "    </tr>\n",
       "    <tr>\n",
       "      <td>2</td>\n",
       "      <td>RIHOG1SZU</td>\n",
       "      <td>0</td>\n",
       "      <td>1.459355e+07</td>\n",
       "      <td>1.260060e+07</td>\n",
       "      <td>1.100315e+07</td>\n",
       "      <td>1.010315e+07</td>\n",
       "      <td>1.879882e+07</td>\n",
       "      <td>1.514035e+07</td>\n",
       "      <td>5.320778e+06</td>\n",
       "      <td>6.906324e+06</td>\n",
       "      <td>...</td>\n",
       "      <td>0</td>\n",
       "      <td>378.0</td>\n",
       "      <td>378.0</td>\n",
       "      <td>310.0</td>\n",
       "      <td>21.0</td>\n",
       "      <td>21.0</td>\n",
       "      <td>16.0</td>\n",
       "      <td>RIH</td>\n",
       "      <td>OG1</td>\n",
       "      <td>SZU</td>\n",
       "    </tr>\n",
       "    <tr>\n",
       "      <td>3</td>\n",
       "      <td>RIHOLMQWU</td>\n",
       "      <td>0</td>\n",
       "      <td>6.727043e+05</td>\n",
       "      <td>8.181116e+05</td>\n",
       "      <td>6.794893e+05</td>\n",
       "      <td>6.794893e+05</td>\n",
       "      <td>8.257254e+05</td>\n",
       "      <td>7.605803e+05</td>\n",
       "      <td>3.577134e+05</td>\n",
       "      <td>4.236612e+05</td>\n",
       "      <td>...</td>\n",
       "      <td>0</td>\n",
       "      <td>702.0</td>\n",
       "      <td>702.0</td>\n",
       "      <td>644.0</td>\n",
       "      <td>951.0</td>\n",
       "      <td>951.0</td>\n",
       "      <td>743.0</td>\n",
       "      <td>RIH</td>\n",
       "      <td>OLM</td>\n",
       "      <td>QWU</td>\n",
       "    </tr>\n",
       "    <tr>\n",
       "      <td>4</td>\n",
       "      <td>RIHO584ET</td>\n",
       "      <td>0</td>\n",
       "      <td>-1.218742e+06</td>\n",
       "      <td>-3.005361e+06</td>\n",
       "      <td>-1.666241e+05</td>\n",
       "      <td>-2.403574e+06</td>\n",
       "      <td>2.583183e+06</td>\n",
       "      <td>2.086546e+06</td>\n",
       "      <td>5.938358e+06</td>\n",
       "      <td>5.446532e+06</td>\n",
       "      <td>...</td>\n",
       "      <td>0</td>\n",
       "      <td>1305.0</td>\n",
       "      <td>1305.0</td>\n",
       "      <td>1211.0</td>\n",
       "      <td>2205.0</td>\n",
       "      <td>2205.0</td>\n",
       "      <td>1831.0</td>\n",
       "      <td>RIH</td>\n",
       "      <td>O58</td>\n",
       "      <td>4ET</td>\n",
       "    </tr>\n",
       "  </tbody>\n",
       "</table>\n",
       "<p>5 rows × 2398 columns</p>\n",
       "</div>"
      ],
      "text/plain": [
       "        Col1  Col2          Col3          Col4          Col5          Col6  \\\n",
       "0    RIGHGSN     1  1.086711e+04  8.648345e+03  1.576618e+04  2.890466e+04   \n",
       "1  RIMHI5ZGP     0  2.584312e+05  2.179633e+05  1.866287e+05  1.866287e+05   \n",
       "2  RIHOG1SZU     0  1.459355e+07  1.260060e+07  1.100315e+07  1.010315e+07   \n",
       "3  RIHOLMQWU     0  6.727043e+05  8.181116e+05  6.794893e+05  6.794893e+05   \n",
       "4  RIHO584ET     0 -1.218742e+06 -3.005361e+06 -1.666241e+05 -2.403574e+06   \n",
       "\n",
       "           Col7          Col8          Col9         Col10  ...  Col2391  \\\n",
       "0  5.273655e+03  2.346153e+04  1.285597e+04  2.871509e+04  ...        1   \n",
       "1  2.154519e+05  1.923615e+05  1.726538e+05  1.666974e+05  ...        0   \n",
       "2  1.879882e+07  1.514035e+07  5.320778e+06  6.906324e+06  ...        0   \n",
       "3  8.257254e+05  7.605803e+05  3.577134e+05  4.236612e+05  ...        0   \n",
       "4  2.583183e+06  2.086546e+06  5.938358e+06  5.446532e+06  ...        0   \n",
       "\n",
       "   Col2392  Col2393  Col2394  Col2395  Col2396  Col2397  Col1_1  Col1_2  \\\n",
       "0    214.0    214.0     68.0     22.0     22.0      7.0     RIG     HGS   \n",
       "1     41.0     41.0     38.0     12.0     12.0     11.0     RIM     HI5   \n",
       "2    378.0    378.0    310.0     21.0     21.0     16.0     RIH     OG1   \n",
       "3    702.0    702.0    644.0    951.0    951.0    743.0     RIH     OLM   \n",
       "4   1305.0   1305.0   1211.0   2205.0   2205.0   1831.0     RIH     O58   \n",
       "\n",
       "   Col1_3  \n",
       "0       N  \n",
       "1     ZGP  \n",
       "2     SZU  \n",
       "3     QWU  \n",
       "4     4ET  \n",
       "\n",
       "[5 rows x 2398 columns]"
      ]
     },
     "execution_count": 21,
     "metadata": {},
     "output_type": "execute_result"
    }
   ],
   "source": [
    "train.head()"
   ]
  },
  {
   "cell_type": "code",
   "execution_count": 22,
   "metadata": {},
   "outputs": [],
   "source": [
    "test.drop(['Col1'],axis=1,inplace=True)\n",
    "train.drop(['Col1'],axis=1,inplace=True)"
   ]
  },
  {
   "cell_type": "code",
   "execution_count": 23,
   "metadata": {},
   "outputs": [
    {
     "data": {
      "text/plain": [
       "0"
      ]
     },
     "execution_count": 23,
     "metadata": {},
     "output_type": "execute_result"
    }
   ],
   "source": [
    "train.shape[0]-train.drop_duplicates().shape[0]"
   ]
  },
  {
   "cell_type": "code",
   "execution_count": 24,
   "metadata": {},
   "outputs": [],
   "source": [
    "train.drop_duplicates(inplace=True)"
   ]
  },
  {
   "cell_type": "code",
   "execution_count": 25,
   "metadata": {},
   "outputs": [
    {
     "data": {
      "text/plain": [
       "0"
      ]
     },
     "execution_count": 25,
     "metadata": {},
     "output_type": "execute_result"
    }
   ],
   "source": [
    "test.shape[0]-test.drop_duplicates().shape[0]"
   ]
  },
  {
   "cell_type": "code",
   "execution_count": 26,
   "metadata": {},
   "outputs": [],
   "source": [
    "target = train.Col2\n",
    "train.drop(['Col2'],axis=1,inplace=True)"
   ]
  },
  {
   "cell_type": "code",
   "execution_count": 27,
   "metadata": {},
   "outputs": [
    {
     "data": {
      "text/plain": [
       "759"
      ]
     },
     "execution_count": 27,
     "metadata": {},
     "output_type": "execute_result"
    }
   ],
   "source": [
    "len(train.columns[train.isna().sum() > 0])"
   ]
  },
  {
   "cell_type": "code",
   "execution_count": 28,
   "metadata": {},
   "outputs": [],
   "source": [
    "def getDuplicateColumns(df,x,cols):\n",
    "    '''\n",
    "    Get a list of duplicate columns.\n",
    "    It will iterate over all the columns in dataframe and find the columns whose contents are duplicate.\n",
    "    :param df: Dataframe object\n",
    "    :return: List of columns whose contents are duplicates.\n",
    "    '''\n",
    "    duplicateColumnNames = []\n",
    "    col = df[x]\n",
    "    for y in cols:\n",
    "        # Select column at yth index.\n",
    "        otherCol = df[y]\n",
    "        # Check if two columns at x 7 y index are equal\n",
    "        if col.equals(otherCol):\n",
    "            duplicateColumnNames.append(y)\n",
    "\n",
    "    return duplicateColumnNames"
   ]
  },
  {
   "cell_type": "code",
   "execution_count": 29,
   "metadata": {},
   "outputs": [],
   "source": [
    "to_drop = train.isna().sum()[(train.isna().sum() > int(.99*train.shape[0]))].index.values.tolist()"
   ]
  },
  {
   "cell_type": "code",
   "execution_count": 30,
   "metadata": {},
   "outputs": [
    {
     "data": {
      "text/plain": [
       "Index(['Col747', 'Col836', 'Col1_1', 'Col1_2', 'Col1_3'], dtype='object')"
      ]
     },
     "execution_count": 30,
     "metadata": {},
     "output_type": "execute_result"
    }
   ],
   "source": [
    "train.columns[train.dtypes == object]"
   ]
  },
  {
   "cell_type": "code",
   "execution_count": 31,
   "metadata": {},
   "outputs": [
    {
     "data": {
      "text/plain": [
       "0      438\n",
       "-      144\n",
       "0.0     41\n",
       "5        1\n",
       "Name: Col836, dtype: int64"
      ]
     },
     "execution_count": 31,
     "metadata": {},
     "output_type": "execute_result"
    }
   ],
   "source": [
    "train.Col836.value_counts()"
   ]
  },
  {
   "cell_type": "code",
   "execution_count": 32,
   "metadata": {},
   "outputs": [
    {
     "data": {
      "text/plain": [
       " 0.349927    50\n",
       " 0.447214    38\n",
       " 0.209956    29\n",
       "-0.069985    26\n",
       "-0.209956    23\n",
       "             ..\n",
       " 0.338919     1\n",
       " 0.205843     1\n",
       " 0.071645     1\n",
       " 0.462210     1\n",
       " 0.433782     1\n",
       "Name: Col836, Length: 350, dtype: int64"
      ]
     },
     "execution_count": 32,
     "metadata": {},
     "output_type": "execute_result"
    }
   ],
   "source": [
    "test.Col836.value_counts()"
   ]
  },
  {
   "cell_type": "code",
   "execution_count": 33,
   "metadata": {},
   "outputs": [],
   "source": [
    "to_drop.append('Col836')"
   ]
  },
  {
   "cell_type": "code",
   "execution_count": 34,
   "metadata": {},
   "outputs": [
    {
     "data": {
      "text/plain": [
       "0      443\n",
       "-      133\n",
       "0.0     46\n",
       "1        2\n",
       "3        1\n",
       "5.0      1\n",
       "Name: Col747, dtype: int64"
      ]
     },
     "execution_count": 34,
     "metadata": {},
     "output_type": "execute_result"
    }
   ],
   "source": [
    "train.Col747.value_counts()"
   ]
  },
  {
   "cell_type": "code",
   "execution_count": 35,
   "metadata": {},
   "outputs": [
    {
     "data": {
      "text/plain": [
       " 0.447214    38\n",
       " 0.349927    35\n",
       " 0.600000    21\n",
       " 0.209956    19\n",
       "-0.069985    19\n",
       "             ..\n",
       " 0.071645     1\n",
       " 0.313575     1\n",
       " 0.462210     1\n",
       " 0.366252     1\n",
       " 0.292461     1\n",
       "Name: Col747, Length: 366, dtype: int64"
      ]
     },
     "execution_count": 35,
     "metadata": {},
     "output_type": "execute_result"
    }
   ],
   "source": [
    "test.Col747.value_counts()"
   ]
  },
  {
   "cell_type": "code",
   "execution_count": 36,
   "metadata": {},
   "outputs": [],
   "source": [
    "to_drop.append('Col747')"
   ]
  },
  {
   "cell_type": "code",
   "execution_count": 37,
   "metadata": {},
   "outputs": [
    {
     "data": {
      "text/plain": [
       "O7M    997\n",
       "O7Y    984\n",
       "O7H    926\n",
       "O75    749\n",
       "O7E    618\n",
       "      ... \n",
       "AYW      1\n",
       "7LG      1\n",
       "7IM      1\n",
       "YLG      1\n",
       "Y9Y      1\n",
       "Name: Col1_1, Length: 381, dtype: int64"
      ]
     },
     "execution_count": 37,
     "metadata": {},
     "output_type": "execute_result"
    }
   ],
   "source": [
    "train.Col1_1.value_counts()"
   ]
  },
  {
   "cell_type": "code",
   "execution_count": 38,
   "metadata": {},
   "outputs": [
    {
     "data": {
      "text/plain": [
       "O1H    1028\n",
       "O1M    1015\n",
       "O15     995\n",
       "O1E     989\n",
       "O1Y     958\n",
       "       ... \n",
       "T1M       1\n",
       "T20       1\n",
       "92Y       1\n",
       "970       1\n",
       "Y2M       1\n",
       "Name: Col1_1, Length: 386, dtype: int64"
      ]
     },
     "execution_count": 38,
     "metadata": {},
     "output_type": "execute_result"
    }
   ],
   "source": [
    "test.Col1_1.value_counts()"
   ]
  },
  {
   "cell_type": "code",
   "execution_count": 39,
   "metadata": {},
   "outputs": [],
   "source": [
    "le = LabelEncoder()\n",
    "l = train.Col1_1.values.tolist()\n",
    "l.extend(test.Col1_1.values.tolist())\n",
    "l = np.reshape(np.array(l),(len(l),))\n",
    "le.fit(l)\n",
    "train.Col1_1 = le.transform(train.Col1_1)\n",
    "test.Col1_1 = le.transform(test.Col1_1)"
   ]
  },
  {
   "cell_type": "code",
   "execution_count": 40,
   "metadata": {},
   "outputs": [
    {
     "data": {
      "text/plain": [
       "UV0    42\n",
       "UV5    41\n",
       "WLB    41\n",
       "UVS    38\n",
       "WVC    38\n",
       "       ..\n",
       "6LO     6\n",
       "RV8     5\n",
       "D5C     5\n",
       "B55     4\n",
       "RVO     3\n",
       "Name: Col1_2, Length: 1000, dtype: int64"
      ]
     },
     "execution_count": 40,
     "metadata": {},
     "output_type": "execute_result"
    }
   ],
   "source": [
    "train.Col1_2.value_counts()"
   ]
  },
  {
   "cell_type": "code",
   "execution_count": 41,
   "metadata": {},
   "outputs": [
    {
     "data": {
      "text/plain": [
       "KUB    56\n",
       "KU8    45\n",
       "OQ8    43\n",
       "UCM    42\n",
       "OG1    41\n",
       "       ..\n",
       "WC0     6\n",
       "HIS     6\n",
       "BGY     5\n",
       "WIS     5\n",
       "WG      1\n",
       "Name: Col1_2, Length: 1001, dtype: int64"
      ]
     },
     "execution_count": 41,
     "metadata": {},
     "output_type": "execute_result"
    }
   ],
   "source": [
    "test.Col1_2.value_counts()"
   ]
  },
  {
   "cell_type": "code",
   "execution_count": 42,
   "metadata": {},
   "outputs": [],
   "source": [
    "le = LabelEncoder()\n",
    "l = train.Col1_2.values.tolist()\n",
    "l.extend(test.Col1_2.values.tolist())\n",
    "l = np.reshape(np.array(l),(len(l),))\n",
    "le.fit(l)\n",
    "train.Col1_2 = le.transform(train.Col1_2)\n",
    "test.Col1_2 = le.transform(test.Col1_2)"
   ]
  },
  {
   "cell_type": "code",
   "execution_count": 43,
   "metadata": {},
   "outputs": [
    {
     "data": {
      "text/plain": [
       "19     208\n",
       "YG     208\n",
       "4G     205\n",
       "ND     204\n",
       "SZ     198\n",
       "      ... \n",
       "ZGP      1\n",
       "K        1\n",
       "QWU      1\n",
       "SZU      1\n",
       "4ET      1\n",
       "Name: Col1_3, Length: 116, dtype: int64"
      ]
     },
     "execution_count": 43,
     "metadata": {},
     "output_type": "execute_result"
    }
   ],
   "source": [
    "train.Col1_3.value_counts()"
   ]
  },
  {
   "cell_type": "code",
   "execution_count": 44,
   "metadata": {},
   "outputs": [
    {
     "data": {
      "text/plain": [
       "55     235\n",
       "YJ     235\n",
       "5R     233\n",
       "4G     227\n",
       "NJ     227\n",
       "      ... \n",
       "4Y6      1\n",
       "K9D      1\n",
       "1        1\n",
       "Q        1\n",
       "ZWD      1\n",
       "Name: Col1_3, Length: 126, dtype: int64"
      ]
     },
     "execution_count": 44,
     "metadata": {},
     "output_type": "execute_result"
    }
   ],
   "source": [
    "test.Col1_3.value_counts()"
   ]
  },
  {
   "cell_type": "code",
   "execution_count": 45,
   "metadata": {},
   "outputs": [],
   "source": [
    "le = LabelEncoder()\n",
    "l = train.Col1_3.values.tolist()\n",
    "l.extend(test.Col1_3.values.tolist())\n",
    "l = np.reshape(np.array(l),(len(l),))\n",
    "le.fit(l)\n",
    "train.Col1_3 = le.transform(train.Col1_3)\n",
    "test.Col1_3 = le.transform(test.Col1_3)"
   ]
  },
  {
   "cell_type": "code",
   "execution_count": 46,
   "metadata": {},
   "outputs": [
    {
     "data": {
      "text/plain": [
       "Index(['Col702', 'Col733', 'Col742', 'Col754', 'Col763', 'Col791', 'Col813',\n",
       "       'Col822', 'Col831', 'Col843', 'Col852'],\n",
       "      dtype='object')"
      ]
     },
     "execution_count": 46,
     "metadata": {},
     "output_type": "execute_result"
    }
   ],
   "source": [
    "test.columns[test.dtypes == object]"
   ]
  },
  {
   "cell_type": "code",
   "execution_count": 47,
   "metadata": {},
   "outputs": [
    {
     "data": {
      "text/plain": [
       "0.0    1527\n",
       "0        13\n",
       "-         1\n",
       "Name: Col702, dtype: int64"
      ]
     },
     "execution_count": 47,
     "metadata": {},
     "output_type": "execute_result"
    }
   ],
   "source": [
    "test.Col702.value_counts()"
   ]
  },
  {
   "cell_type": "code",
   "execution_count": 48,
   "metadata": {},
   "outputs": [
    {
     "data": {
      "text/plain": [
       "0.000000    1395\n",
       "0.255551       2\n",
       "0.442620       1\n",
       "0.079860       1\n",
       "0.069985       1\n",
       "0.057143       1\n",
       "0.058166       1\n",
       "Name: Col702, dtype: int64"
      ]
     },
     "execution_count": 48,
     "metadata": {},
     "output_type": "execute_result"
    }
   ],
   "source": [
    "train.Col702.value_counts()"
   ]
  },
  {
   "cell_type": "code",
   "execution_count": 49,
   "metadata": {},
   "outputs": [],
   "source": [
    "to_drop.append('Col702')"
   ]
  },
  {
   "cell_type": "code",
   "execution_count": 50,
   "metadata": {},
   "outputs": [
    {
     "data": {
      "text/plain": [
       "0.0    1519\n",
       "0        21\n",
       "-         2\n",
       "Name: Col791, dtype: int64"
      ]
     },
     "execution_count": 50,
     "metadata": {},
     "output_type": "execute_result"
    }
   ],
   "source": [
    "test.Col791.value_counts()"
   ]
  },
  {
   "cell_type": "code",
   "execution_count": 51,
   "metadata": {},
   "outputs": [
    {
     "data": {
      "text/plain": [
       " 0.000000    1397\n",
       " 0.255551       2\n",
       " 0.442620       1\n",
       " 0.127775       1\n",
       " 0.069985       1\n",
       " 0.057143       1\n",
       "-0.020092       1\n",
       "Name: Col791, dtype: int64"
      ]
     },
     "execution_count": 51,
     "metadata": {},
     "output_type": "execute_result"
    }
   ],
   "source": [
    "train.Col791.value_counts()"
   ]
  },
  {
   "cell_type": "code",
   "execution_count": 52,
   "metadata": {},
   "outputs": [],
   "source": [
    "to_drop.append('Col791')"
   ]
  },
  {
   "cell_type": "code",
   "execution_count": 53,
   "metadata": {},
   "outputs": [
    {
     "data": {
      "text/plain": [
       "0.0    8\n",
       "-      1\n",
       "Name: Col813, dtype: int64"
      ]
     },
     "execution_count": 53,
     "metadata": {},
     "output_type": "execute_result"
    }
   ],
   "source": [
    "test.Col813.value_counts()"
   ]
  },
  {
   "cell_type": "code",
   "execution_count": 54,
   "metadata": {},
   "outputs": [
    {
     "data": {
      "text/plain": [
       "0.0    7\n",
       "Name: Col813, dtype: int64"
      ]
     },
     "execution_count": 54,
     "metadata": {},
     "output_type": "execute_result"
    }
   ],
   "source": [
    "train.Col813.value_counts()"
   ]
  },
  {
   "cell_type": "code",
   "execution_count": 55,
   "metadata": {},
   "outputs": [],
   "source": [
    "to_drop.append('Col813')"
   ]
  },
  {
   "cell_type": "code",
   "execution_count": 56,
   "metadata": {},
   "outputs": [
    {
     "data": {
      "text/plain": [
       "0.0    8\n",
       "-      1\n",
       "Name: Col813, dtype: int64"
      ]
     },
     "execution_count": 56,
     "metadata": {},
     "output_type": "execute_result"
    }
   ],
   "source": [
    "test.Col813.value_counts()"
   ]
  },
  {
   "cell_type": "code",
   "execution_count": 57,
   "metadata": {},
   "outputs": [
    {
     "data": {
      "text/plain": [
       "0.0    7\n",
       "Name: Col813, dtype: int64"
      ]
     },
     "execution_count": 57,
     "metadata": {},
     "output_type": "execute_result"
    }
   ],
   "source": [
    "train.Col813.value_counts()"
   ]
  },
  {
   "cell_type": "code",
   "execution_count": 58,
   "metadata": {},
   "outputs": [],
   "source": [
    "to_drop.append('Col822')"
   ]
  },
  {
   "cell_type": "code",
   "execution_count": 59,
   "metadata": {},
   "outputs": [],
   "source": [
    "str_cols = ['Col733', 'Col742', 'Col754', 'Col763','Col831', 'Col843', 'Col852']"
   ]
  },
  {
   "cell_type": "code",
   "execution_count": 60,
   "metadata": {},
   "outputs": [],
   "source": [
    "def processing_strings(val):\n",
    "    if type(val) == str:\n",
    "        try:\n",
    "            x = float(val)\n",
    "            return float(val)\n",
    "        except:\n",
    "            return 0.0\n",
    "    return val"
   ]
  },
  {
   "cell_type": "code",
   "execution_count": 61,
   "metadata": {},
   "outputs": [],
   "source": [
    "for col in str_cols:\n",
    "    train[col] = train[col].apply(processing_strings)\n",
    "    test[col] = test[col].apply(processing_strings)"
   ]
  },
  {
   "cell_type": "code",
   "execution_count": 62,
   "metadata": {},
   "outputs": [],
   "source": [
    "train.drop(to_drop,axis=1,inplace=True)\n",
    "test.drop(to_drop,axis=1,inplace=True)"
   ]
  },
  {
   "cell_type": "code",
   "execution_count": 63,
   "metadata": {},
   "outputs": [],
   "source": [
    "# np.savetxt('row.txt',np.array(test.iloc[20426].values))"
   ]
  },
  {
   "cell_type": "code",
   "execution_count": 64,
   "metadata": {},
   "outputs": [],
   "source": [
    "dict_unique = {}"
   ]
  },
  {
   "cell_type": "code",
   "execution_count": 65,
   "metadata": {},
   "outputs": [],
   "source": [
    "un=train.nunique()"
   ]
  },
  {
   "cell_type": "code",
   "execution_count": 66,
   "metadata": {},
   "outputs": [],
   "source": [
    "for k in un.index:\n",
    "    if un[k] in dict_unique:\n",
    "        dict_unique[un[k]].append(k)\n",
    "    else:\n",
    "        dict_unique[un[k]] = [k]"
   ]
  },
  {
   "cell_type": "code",
   "execution_count": 67,
   "metadata": {},
   "outputs": [],
   "source": [
    "categorical_cols = train.columns[(train.nunique() < 8)].values.tolist()"
   ]
  },
  {
   "cell_type": "code",
   "execution_count": 68,
   "metadata": {},
   "outputs": [],
   "source": [
    "def process(dict_un):\n",
    "    dict_data = dict()\n",
    "    for k in dict_un.keys():\n",
    "        cols=dict_un[k]\n",
    "        for col in cols:\n",
    "            dict_data[col] = getDuplicateColumns(train2,col,cols)\n",
    "    with open(f'{data_path}duplicate_columns.txt','w') as f:\n",
    "        f.write(str(dict_data))\n",
    "        f.close()\n",
    "    return dict_data"
   ]
  },
  {
   "cell_type": "code",
   "execution_count": 69,
   "metadata": {},
   "outputs": [],
   "source": [
    "# def process(cols):\n",
    "#     dict_data = dict()\n",
    "#     for col in cols:\n",
    "#         dict_data[col] = getDuplicateColumns(train,col,cols)\n",
    "#     with open(f'{data_path}duplicate_columns.txt','w') as f:\n",
    "#         f.write(str(dict_data))\n",
    "#         f.close()"
   ]
  },
  {
   "cell_type": "code",
   "execution_count": 70,
   "metadata": {},
   "outputs": [],
   "source": [
    "if os.path.exists(f'{data_path}duplicate_columns.txt'):\n",
    "    with open(f'{data_path}duplicate_columns.txt','r') as f:\n",
    "        data = literal_eval(f.read())\n",
    "else:\n",
    "    data = process(dict_unique)"
   ]
  },
  {
   "cell_type": "code",
   "execution_count": 71,
   "metadata": {},
   "outputs": [],
   "source": [
    "items = set()\n",
    "for k,v in data.items():\n",
    "    if len(v) > 1 and k not in items:\n",
    "        items.update(v)\n",
    "        val = train[k].values\n",
    "        train.drop(v,axis=1,inplace=True)\n",
    "        train[k]=val\n",
    "        val = test[k].values\n",
    "        test.drop(v,axis=1,inplace=True)\n",
    "        test[k]=val"
   ]
  },
  {
   "cell_type": "code",
   "execution_count": 72,
   "metadata": {},
   "outputs": [
    {
     "data": {
      "text/plain": [
       "(17521, 2364)"
      ]
     },
     "execution_count": 72,
     "metadata": {},
     "output_type": "execute_result"
    }
   ],
   "source": [
    "train.shape"
   ]
  },
  {
   "cell_type": "code",
   "execution_count": 73,
   "metadata": {},
   "outputs": [
    {
     "data": {
      "text/plain": [
       "(20442, 2364)"
      ]
     },
     "execution_count": 73,
     "metadata": {},
     "output_type": "execute_result"
    }
   ],
   "source": [
    "test.shape"
   ]
  },
  {
   "cell_type": "code",
   "execution_count": 74,
   "metadata": {},
   "outputs": [],
   "source": [
    "cols_to_log = train.columns[((train.max(axis=0) >= 8) & (train.dtypes == float))].values"
   ]
  },
  {
   "cell_type": "code",
   "execution_count": 75,
   "metadata": {},
   "outputs": [
    {
     "data": {
      "text/plain": [
       "array(['Col3', 'Col4', 'Col5', 'Col6', 'Col7', 'Col8', 'Col9', 'Col10',\n",
       "       'Col11', 'Col12', 'Col13', 'Col14', 'Col15', 'Col16', 'Col18',\n",
       "       'Col19', 'Col20', 'Col21', 'Col22', 'Col23', 'Col24', 'Col37',\n",
       "       'Col38', 'Col40', 'Col41', 'Col42', 'Col43', 'Col92', 'Col93',\n",
       "       'Col94', 'Col95', 'Col96', 'Col97', 'Col98', 'Col99', 'Col101',\n",
       "       'Col103', 'Col104', 'Col105', 'Col106', 'Col107', 'Col138',\n",
       "       'Col139', 'Col140', 'Col141', 'Col142', 'Col143', 'Col144',\n",
       "       'Col145', 'Col146', 'Col147', 'Col148', 'Col149', 'Col150',\n",
       "       'Col151', 'Col152', 'Col153', 'Col154', 'Col155', 'Col156',\n",
       "       'Col157', 'Col158', 'Col159', 'Col162', 'Col164', 'Col166',\n",
       "       'Col168', 'Col169', 'Col170', 'Col175', 'Col176', 'Col177',\n",
       "       'Col178', 'Col179', 'Col180', 'Col181', 'Col182', 'Col186',\n",
       "       'Col187', 'Col188', 'Col189', 'Col192', 'Col193', 'Col194',\n",
       "       'Col195', 'Col196', 'Col197', 'Col198', 'Col199', 'Col200',\n",
       "       'Col201', 'Col202', 'Col203', 'Col204', 'Col205', 'Col206',\n",
       "       'Col207', 'Col208', 'Col209', 'Col210', 'Col211', 'Col212',\n",
       "       'Col213', 'Col214', 'Col215', 'Col216', 'Col217', 'Col218',\n",
       "       'Col219', 'Col220', 'Col221', 'Col222', 'Col223', 'Col224',\n",
       "       'Col225', 'Col226', 'Col227', 'Col228', 'Col229', 'Col230',\n",
       "       'Col231', 'Col232', 'Col233', 'Col234', 'Col235', 'Col236',\n",
       "       'Col237', 'Col238', 'Col239', 'Col241', 'Col243', 'Col244',\n",
       "       'Col245', 'Col292', 'Col293', 'Col294', 'Col295', 'Col296',\n",
       "       'Col297', 'Col298', 'Col299', 'Col300', 'Col301', 'Col302',\n",
       "       'Col303', 'Col304', 'Col305', 'Col306', 'Col307', 'Col308',\n",
       "       'Col309', 'Col310', 'Col311', 'Col312', 'Col313', 'Col314',\n",
       "       'Col315', 'Col316', 'Col317', 'Col318', 'Col320', 'Col321',\n",
       "       'Col322', 'Col323', 'Col324', 'Col325', 'Col326', 'Col327',\n",
       "       'Col328', 'Col331', 'Col332', 'Col378', 'Col379', 'Col383',\n",
       "       'Col384', 'Col385', 'Col386', 'Col389', 'Col390', 'Col391',\n",
       "       'Col392', 'Col393', 'Col394', 'Col395', 'Col396', 'Col397',\n",
       "       'Col398', 'Col399', 'Col400', 'Col401', 'Col402', 'Col403',\n",
       "       'Col404', 'Col405', 'Col406', 'Col407', 'Col408', 'Col409',\n",
       "       'Col410', 'Col411', 'Col412', 'Col413', 'Col414', 'Col415',\n",
       "       'Col416', 'Col417', 'Col418', 'Col419', 'Col420', 'Col421',\n",
       "       'Col422', 'Col423', 'Col424', 'Col425', 'Col426', 'Col427',\n",
       "       'Col428', 'Col429', 'Col430', 'Col431', 'Col432', 'Col433',\n",
       "       'Col434', 'Col435', 'Col436', 'Col438', 'Col440', 'Col441',\n",
       "       'Col442', 'Col489', 'Col490', 'Col491', 'Col492', 'Col493',\n",
       "       'Col494', 'Col495', 'Col496', 'Col497', 'Col498', 'Col499',\n",
       "       'Col500', 'Col501', 'Col502', 'Col503', 'Col504', 'Col505',\n",
       "       'Col506', 'Col507', 'Col508', 'Col509', 'Col510', 'Col511',\n",
       "       'Col512', 'Col513', 'Col514', 'Col515', 'Col517', 'Col518',\n",
       "       'Col519', 'Col520', 'Col521', 'Col522', 'Col523', 'Col524',\n",
       "       'Col525', 'Col528', 'Col529', 'Col575', 'Col576', 'Col579',\n",
       "       'Col580', 'Col581', 'Col582', 'Col585', 'Col586', 'Col587',\n",
       "       'Col588', 'Col589', 'Col590', 'Col591', 'Col592', 'Col593',\n",
       "       'Col594', 'Col595', 'Col596', 'Col597', 'Col598', 'Col599',\n",
       "       'Col600', 'Col601', 'Col602', 'Col603', 'Col604', 'Col605',\n",
       "       'Col606', 'Col607', 'Col608', 'Col609', 'Col610', 'Col611',\n",
       "       'Col612', 'Col613', 'Col614', 'Col615', 'Col616', 'Col617',\n",
       "       'Col618', 'Col619', 'Col620', 'Col621', 'Col622', 'Col623',\n",
       "       'Col624', 'Col625', 'Col626', 'Col627', 'Col628', 'Col629',\n",
       "       'Col630', 'Col631', 'Col632', 'Col634', 'Col636', 'Col637',\n",
       "       'Col638', 'Col639', 'Col640', 'Col641', 'Col642', 'Col643',\n",
       "       'Col644', 'Col645', 'Col646', 'Col647', 'Col648', 'Col649',\n",
       "       'Col650', 'Col651', 'Col652', 'Col653', 'Col654', 'Col655',\n",
       "       'Col656', 'Col657', 'Col658', 'Col659', 'Col660', 'Col661',\n",
       "       'Col662', 'Col663', 'Col664', 'Col665', 'Col667', 'Col668',\n",
       "       'Col669', 'Col670', 'Col671', 'Col672', 'Col673', 'Col674',\n",
       "       'Col675', 'Col678', 'Col679', 'Col862', 'Col863', 'Col864',\n",
       "       'Col865', 'Col866', 'Col867', 'Col868', 'Col869', 'Col870',\n",
       "       'Col871', 'Col872', 'Col873', 'Col878', 'Col879', 'Col880',\n",
       "       'Col882', 'Col883', 'Col884', 'Col886', 'Col887', 'Col888',\n",
       "       'Col889', 'Col890', 'Col891', 'Col895', 'Col896', 'Col897',\n",
       "       'Col898', 'Col899', 'Col900', 'Col904', 'Col905', 'Col906',\n",
       "       'Col907', 'Col908', 'Col909', 'Col913', 'Col914', 'Col915',\n",
       "       'Col916', 'Col920', 'Col921', 'Col925', 'Col926', 'Col930',\n",
       "       'Col2392', 'Col2393', 'Col2394', 'Col2395', 'Col2396', 'Col2397'],\n",
       "      dtype=object)"
      ]
     },
     "execution_count": 75,
     "metadata": {},
     "output_type": "execute_result"
    }
   ],
   "source": [
    "cols_to_log"
   ]
  },
  {
   "cell_type": "code",
   "execution_count": 76,
   "metadata": {},
   "outputs": [],
   "source": [
    "train.fillna(-1,inplace=True)\n",
    "test.fillna(-1,inplace=True)"
   ]
  },
  {
   "cell_type": "code",
   "execution_count": 77,
   "metadata": {},
   "outputs": [],
   "source": [
    "def getSign(val):\n",
    "    if val < 0.0:\n",
    "        return -1\n",
    "    else:\n",
    "        return 1\n",
    "for col in cols_to_log:\n",
    "    sign = train[col].apply(getSign)\n",
    "    train[col] = np.log1p(np.abs(train[col]))*sign\n",
    "    sign = test[col].apply(getSign)\n",
    "    test[col] = np.log1p(np.abs(test[col]))"
   ]
  },
  {
   "cell_type": "code",
   "execution_count": 78,
   "metadata": {},
   "outputs": [],
   "source": [
    "train.fillna(-1,inplace=True)\n",
    "test.fillna(-1,inplace=True)"
   ]
  },
  {
   "cell_type": "code",
   "execution_count": 79,
   "metadata": {},
   "outputs": [],
   "source": [
    "train_cols = train.columns[train.dtypes == float]"
   ]
  },
  {
   "cell_type": "code",
   "execution_count": 80,
   "metadata": {},
   "outputs": [],
   "source": [
    "col_to_float = []\n",
    "for col in train.columns:\n",
    "    if col!= 'Col2' and train[col].dtype != test[col].dtype:\n",
    "        col_to_float.append(col)"
   ]
  },
  {
   "cell_type": "code",
   "execution_count": 81,
   "metadata": {},
   "outputs": [],
   "source": [
    "for col in col_to_float:\n",
    "    train[col] = train[col].astype('float')"
   ]
  },
  {
   "cell_type": "code",
   "execution_count": 82,
   "metadata": {},
   "outputs": [],
   "source": [
    "# train['unique'] = train[train_cols].nunique(axis=1)\n",
    "# test['unique'] = test[train_cols].nunique(axis=1)"
   ]
  },
  {
   "cell_type": "code",
   "execution_count": 83,
   "metadata": {},
   "outputs": [],
   "source": [
    "# train['mean'] = train[train_cols].mean(axis=1)\n",
    "# test['mean'] = test[train_cols].mean(axis=1)\n",
    "\n",
    "# train['max'] = train[train_cols].max(axis=1)\n",
    "# test['max'] = test[train_cols].max(axis=1)\n",
    "\n",
    "# train['min'] = train[train_cols].min(axis=1)\n",
    "# test['min'] = test[train_cols].min(axis=1)"
   ]
  },
  {
   "cell_type": "code",
   "execution_count": 84,
   "metadata": {},
   "outputs": [],
   "source": [
    "train['Col2'] = target"
   ]
  },
  {
   "cell_type": "code",
   "execution_count": 85,
   "metadata": {},
   "outputs": [],
   "source": [
    "train.to_csv(f'{data_path}Processed_Train.csv',index=False)\n",
    "test.to_csv(f'{data_path}Processed_Test.csv',index=False)"
   ]
  },
  {
   "cell_type": "code",
   "execution_count": 86,
   "metadata": {},
   "outputs": [],
   "source": [
    "# to_remove_cols = []\n",
    "# for col in train.columns:\n",
    "#     if train[col].dtype != test[col].dtype:\n",
    "#         to_remove_cols.append(col)"
   ]
  }
 ],
 "metadata": {
  "kernelspec": {
   "display_name": "Python 3",
   "language": "python",
   "name": "python3"
  },
  "language_info": {
   "codemirror_mode": {
    "name": "ipython",
    "version": 3
   },
   "file_extension": ".py",
   "mimetype": "text/x-python",
   "name": "python",
   "nbconvert_exporter": "python",
   "pygments_lexer": "ipython3",
   "version": "3.7.4"
  }
 },
 "nbformat": 4,
 "nbformat_minor": 2
}
