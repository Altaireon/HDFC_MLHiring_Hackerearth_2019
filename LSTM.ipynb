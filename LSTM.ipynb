{
 "cells": [
  {
   "cell_type": "code",
   "execution_count": 1,
   "metadata": {},
   "outputs": [],
   "source": [
    "import pandas as pd\n",
    "import numpy as np\n",
    "import matplotlib.pyplot as plt\n",
    "import seaborn as sns\n",
    "%matplotlib inline"
   ]
  },
  {
   "cell_type": "code",
   "execution_count": 2,
   "metadata": {},
   "outputs": [],
   "source": [
    "from tqdm import tqdm\n",
    "from ast import literal_eval\n",
    "import os\n",
    "from multiprocessing import Pool\n",
    "from multiprocessing import cpu_count"
   ]
  },
  {
   "cell_type": "code",
   "execution_count": 398,
   "metadata": {},
   "outputs": [],
   "source": [
    "from sklearn.preprocessing import LabelEncoder\n",
    "from sklearn.model_selection import KFold,StratifiedKFold\n",
    "from sklearn.metrics import accuracy_score,f1_score\n",
    "from sklearn.decomposition import PCA,TruncatedSVD"
   ]
  },
  {
   "cell_type": "code",
   "execution_count": 4,
   "metadata": {},
   "outputs": [],
   "source": [
    "nan_value = -1\n",
    "categorical_limit = 8\n",
    "log_limit = 10000\n",
    "missing_threshold = 99\n",
    "data_path = './DataSet/'"
   ]
  },
  {
   "cell_type": "code",
   "execution_count": 5,
   "metadata": {},
   "outputs": [
    {
     "name": "stderr",
     "output_type": "stream",
     "text": [
      "/home/avinash/anaconda3/lib/python3.7/site-packages/IPython/core/interactiveshell.py:3058: DtypeWarning: Columns (746,835) have mixed types. Specify dtype option on import or set low_memory=False.\n",
      "  interactivity=interactivity, compiler=compiler, result=result)\n",
      "/home/avinash/anaconda3/lib/python3.7/site-packages/IPython/core/interactiveshell.py:3058: DtypeWarning: Columns (700,731,740,752,761,789,811,820,829,841,850) have mixed types. Specify dtype option on import or set low_memory=False.\n",
      "  interactivity=interactivity, compiler=compiler, result=result)\n"
     ]
    }
   ],
   "source": [
    "train = pd.read_csv(f'{data_path}Train.csv')\n",
    "test = pd.read_csv(f'{data_path}Test.csv')"
   ]
  },
  {
   "cell_type": "code",
   "execution_count": 6,
   "metadata": {},
   "outputs": [],
   "source": [
    "# train.drop_duplicates(inplace=True)\n",
    "target = train.Col2\n",
    "train.drop(['Col2'],axis=1,inplace=True)"
   ]
  },
  {
   "cell_type": "code",
   "execution_count": 7,
   "metadata": {},
   "outputs": [
    {
     "data": {
      "text/plain": [
       "(17521, 2394)"
      ]
     },
     "execution_count": 7,
     "metadata": {},
     "output_type": "execute_result"
    }
   ],
   "source": [
    "train.shape"
   ]
  },
  {
   "cell_type": "code",
   "execution_count": 8,
   "metadata": {},
   "outputs": [
    {
     "data": {
      "text/plain": [
       "(20442, 2394)"
      ]
     },
     "execution_count": 8,
     "metadata": {},
     "output_type": "execute_result"
    }
   ],
   "source": [
    "test.shape"
   ]
  },
  {
   "cell_type": "code",
   "execution_count": 9,
   "metadata": {},
   "outputs": [
    {
     "data": {
      "text/html": [
       "<div>\n",
       "<style scoped>\n",
       "    .dataframe tbody tr th:only-of-type {\n",
       "        vertical-align: middle;\n",
       "    }\n",
       "\n",
       "    .dataframe tbody tr th {\n",
       "        vertical-align: top;\n",
       "    }\n",
       "\n",
       "    .dataframe thead th {\n",
       "        text-align: right;\n",
       "    }\n",
       "</style>\n",
       "<table border=\"1\" class=\"dataframe\">\n",
       "  <thead>\n",
       "    <tr style=\"text-align: right;\">\n",
       "      <th></th>\n",
       "      <th>Col1</th>\n",
       "      <th>Col3</th>\n",
       "      <th>Col4</th>\n",
       "      <th>Col5</th>\n",
       "      <th>Col6</th>\n",
       "      <th>Col7</th>\n",
       "      <th>Col8</th>\n",
       "      <th>Col9</th>\n",
       "      <th>Col10</th>\n",
       "      <th>Col11</th>\n",
       "      <th>...</th>\n",
       "      <th>Col2388</th>\n",
       "      <th>Col2389</th>\n",
       "      <th>Col2390</th>\n",
       "      <th>Col2391</th>\n",
       "      <th>Col2392</th>\n",
       "      <th>Col2393</th>\n",
       "      <th>Col2394</th>\n",
       "      <th>Col2395</th>\n",
       "      <th>Col2396</th>\n",
       "      <th>Col2397</th>\n",
       "    </tr>\n",
       "  </thead>\n",
       "  <tbody>\n",
       "    <tr>\n",
       "      <td>0</td>\n",
       "      <td>RIGHGSN</td>\n",
       "      <td>1.086711e+04</td>\n",
       "      <td>8.648345e+03</td>\n",
       "      <td>1.576618e+04</td>\n",
       "      <td>2.890466e+04</td>\n",
       "      <td>5.273655e+03</td>\n",
       "      <td>2.346153e+04</td>\n",
       "      <td>1.285597e+04</td>\n",
       "      <td>2.871509e+04</td>\n",
       "      <td>9.114586e+03</td>\n",
       "      <td>...</td>\n",
       "      <td>0</td>\n",
       "      <td>1</td>\n",
       "      <td>0</td>\n",
       "      <td>1</td>\n",
       "      <td>214.0</td>\n",
       "      <td>214.0</td>\n",
       "      <td>68.0</td>\n",
       "      <td>22.0</td>\n",
       "      <td>22.0</td>\n",
       "      <td>7.0</td>\n",
       "    </tr>\n",
       "    <tr>\n",
       "      <td>1</td>\n",
       "      <td>RIMHI5ZGP</td>\n",
       "      <td>2.584312e+05</td>\n",
       "      <td>2.179633e+05</td>\n",
       "      <td>1.866287e+05</td>\n",
       "      <td>1.866287e+05</td>\n",
       "      <td>2.154519e+05</td>\n",
       "      <td>1.923615e+05</td>\n",
       "      <td>1.726538e+05</td>\n",
       "      <td>1.666974e+05</td>\n",
       "      <td>2.013518e+05</td>\n",
       "      <td>...</td>\n",
       "      <td>0</td>\n",
       "      <td>0</td>\n",
       "      <td>0</td>\n",
       "      <td>0</td>\n",
       "      <td>41.0</td>\n",
       "      <td>41.0</td>\n",
       "      <td>38.0</td>\n",
       "      <td>12.0</td>\n",
       "      <td>12.0</td>\n",
       "      <td>11.0</td>\n",
       "    </tr>\n",
       "    <tr>\n",
       "      <td>2</td>\n",
       "      <td>RIHOG1SZU</td>\n",
       "      <td>1.459355e+07</td>\n",
       "      <td>1.260060e+07</td>\n",
       "      <td>1.100315e+07</td>\n",
       "      <td>1.010315e+07</td>\n",
       "      <td>1.879882e+07</td>\n",
       "      <td>1.514035e+07</td>\n",
       "      <td>5.320778e+06</td>\n",
       "      <td>6.906324e+06</td>\n",
       "      <td>9.368338e+06</td>\n",
       "      <td>...</td>\n",
       "      <td>0</td>\n",
       "      <td>1</td>\n",
       "      <td>1</td>\n",
       "      <td>0</td>\n",
       "      <td>378.0</td>\n",
       "      <td>378.0</td>\n",
       "      <td>310.0</td>\n",
       "      <td>21.0</td>\n",
       "      <td>21.0</td>\n",
       "      <td>16.0</td>\n",
       "    </tr>\n",
       "    <tr>\n",
       "      <td>3</td>\n",
       "      <td>RIHOLMQWU</td>\n",
       "      <td>6.727043e+05</td>\n",
       "      <td>8.181116e+05</td>\n",
       "      <td>6.794893e+05</td>\n",
       "      <td>6.794893e+05</td>\n",
       "      <td>8.257254e+05</td>\n",
       "      <td>7.605803e+05</td>\n",
       "      <td>3.577134e+05</td>\n",
       "      <td>4.236612e+05</td>\n",
       "      <td>4.304848e+05</td>\n",
       "      <td>...</td>\n",
       "      <td>0</td>\n",
       "      <td>0</td>\n",
       "      <td>0</td>\n",
       "      <td>0</td>\n",
       "      <td>702.0</td>\n",
       "      <td>702.0</td>\n",
       "      <td>644.0</td>\n",
       "      <td>951.0</td>\n",
       "      <td>951.0</td>\n",
       "      <td>743.0</td>\n",
       "    </tr>\n",
       "    <tr>\n",
       "      <td>4</td>\n",
       "      <td>RIHO584ET</td>\n",
       "      <td>-1.218742e+06</td>\n",
       "      <td>-3.005361e+06</td>\n",
       "      <td>-1.666241e+05</td>\n",
       "      <td>-2.403574e+06</td>\n",
       "      <td>2.583183e+06</td>\n",
       "      <td>2.086546e+06</td>\n",
       "      <td>5.938358e+06</td>\n",
       "      <td>5.446532e+06</td>\n",
       "      <td>3.473444e+06</td>\n",
       "      <td>...</td>\n",
       "      <td>0</td>\n",
       "      <td>0</td>\n",
       "      <td>0</td>\n",
       "      <td>0</td>\n",
       "      <td>1305.0</td>\n",
       "      <td>1305.0</td>\n",
       "      <td>1211.0</td>\n",
       "      <td>2205.0</td>\n",
       "      <td>2205.0</td>\n",
       "      <td>1831.0</td>\n",
       "    </tr>\n",
       "  </tbody>\n",
       "</table>\n",
       "<p>5 rows × 2394 columns</p>\n",
       "</div>"
      ],
      "text/plain": [
       "        Col1          Col3          Col4          Col5          Col6  \\\n",
       "0    RIGHGSN  1.086711e+04  8.648345e+03  1.576618e+04  2.890466e+04   \n",
       "1  RIMHI5ZGP  2.584312e+05  2.179633e+05  1.866287e+05  1.866287e+05   \n",
       "2  RIHOG1SZU  1.459355e+07  1.260060e+07  1.100315e+07  1.010315e+07   \n",
       "3  RIHOLMQWU  6.727043e+05  8.181116e+05  6.794893e+05  6.794893e+05   \n",
       "4  RIHO584ET -1.218742e+06 -3.005361e+06 -1.666241e+05 -2.403574e+06   \n",
       "\n",
       "           Col7          Col8          Col9         Col10         Col11  ...  \\\n",
       "0  5.273655e+03  2.346153e+04  1.285597e+04  2.871509e+04  9.114586e+03  ...   \n",
       "1  2.154519e+05  1.923615e+05  1.726538e+05  1.666974e+05  2.013518e+05  ...   \n",
       "2  1.879882e+07  1.514035e+07  5.320778e+06  6.906324e+06  9.368338e+06  ...   \n",
       "3  8.257254e+05  7.605803e+05  3.577134e+05  4.236612e+05  4.304848e+05  ...   \n",
       "4  2.583183e+06  2.086546e+06  5.938358e+06  5.446532e+06  3.473444e+06  ...   \n",
       "\n",
       "   Col2388  Col2389  Col2390  Col2391  Col2392  Col2393  Col2394  Col2395  \\\n",
       "0        0        1        0        1    214.0    214.0     68.0     22.0   \n",
       "1        0        0        0        0     41.0     41.0     38.0     12.0   \n",
       "2        0        1        1        0    378.0    378.0    310.0     21.0   \n",
       "3        0        0        0        0    702.0    702.0    644.0    951.0   \n",
       "4        0        0        0        0   1305.0   1305.0   1211.0   2205.0   \n",
       "\n",
       "   Col2396  Col2397  \n",
       "0     22.0      7.0  \n",
       "1     12.0     11.0  \n",
       "2     21.0     16.0  \n",
       "3    951.0    743.0  \n",
       "4   2205.0   1831.0  \n",
       "\n",
       "[5 rows x 2394 columns]"
      ]
     },
     "execution_count": 9,
     "metadata": {},
     "output_type": "execute_result"
    }
   ],
   "source": [
    "train.head()"
   ]
  },
  {
   "cell_type": "code",
   "execution_count": 10,
   "metadata": {},
   "outputs": [
    {
     "data": {
      "text/html": [
       "<div>\n",
       "<style scoped>\n",
       "    .dataframe tbody tr th:only-of-type {\n",
       "        vertical-align: middle;\n",
       "    }\n",
       "\n",
       "    .dataframe tbody tr th {\n",
       "        vertical-align: top;\n",
       "    }\n",
       "\n",
       "    .dataframe thead th {\n",
       "        text-align: right;\n",
       "    }\n",
       "</style>\n",
       "<table border=\"1\" class=\"dataframe\">\n",
       "  <thead>\n",
       "    <tr style=\"text-align: right;\">\n",
       "      <th></th>\n",
       "      <th>Col1</th>\n",
       "      <th>Col3</th>\n",
       "      <th>Col4</th>\n",
       "      <th>Col5</th>\n",
       "      <th>Col6</th>\n",
       "      <th>Col7</th>\n",
       "      <th>Col8</th>\n",
       "      <th>Col9</th>\n",
       "      <th>Col10</th>\n",
       "      <th>Col11</th>\n",
       "      <th>...</th>\n",
       "      <th>Col2388</th>\n",
       "      <th>Col2389</th>\n",
       "      <th>Col2390</th>\n",
       "      <th>Col2391</th>\n",
       "      <th>Col2392</th>\n",
       "      <th>Col2393</th>\n",
       "      <th>Col2394</th>\n",
       "      <th>Col2395</th>\n",
       "      <th>Col2396</th>\n",
       "      <th>Col2397</th>\n",
       "    </tr>\n",
       "  </thead>\n",
       "  <tbody>\n",
       "    <tr>\n",
       "      <td>0</td>\n",
       "      <td>RIGD58ZWD</td>\n",
       "      <td>8.167140e+04</td>\n",
       "      <td>8.614542e+04</td>\n",
       "      <td>7.532296e+04</td>\n",
       "      <td>7.532296e+04</td>\n",
       "      <td>1.125174e+05</td>\n",
       "      <td>1.002778e+05</td>\n",
       "      <td>2.038915e+04</td>\n",
       "      <td>3.053853e+04</td>\n",
       "      <td>8.395911e+04</td>\n",
       "      <td>...</td>\n",
       "      <td>0</td>\n",
       "      <td>0</td>\n",
       "      <td>0</td>\n",
       "      <td>0</td>\n",
       "      <td>44.0</td>\n",
       "      <td>44.0</td>\n",
       "      <td>23.0</td>\n",
       "      <td>41.0</td>\n",
       "      <td>41.0</td>\n",
       "      <td>36.0</td>\n",
       "    </tr>\n",
       "    <tr>\n",
       "      <td>1</td>\n",
       "      <td>RIH660YDS</td>\n",
       "      <td>-1.362824e+07</td>\n",
       "      <td>-4.493043e+06</td>\n",
       "      <td>-3.777257e+06</td>\n",
       "      <td>-4.493043e+06</td>\n",
       "      <td>-4.749764e+06</td>\n",
       "      <td>-4.749764e+06</td>\n",
       "      <td>1.147556e+07</td>\n",
       "      <td>1.147556e+07</td>\n",
       "      <td>1.272055e+07</td>\n",
       "      <td>...</td>\n",
       "      <td>1</td>\n",
       "      <td>1</td>\n",
       "      <td>2</td>\n",
       "      <td>2</td>\n",
       "      <td>1234.0</td>\n",
       "      <td>1234.0</td>\n",
       "      <td>680.0</td>\n",
       "      <td>154.0</td>\n",
       "      <td>153.0</td>\n",
       "      <td>86.0</td>\n",
       "    </tr>\n",
       "    <tr>\n",
       "      <td>2</td>\n",
       "      <td>RIH660Q96</td>\n",
       "      <td>1.302700e+06</td>\n",
       "      <td>1.341449e+06</td>\n",
       "      <td>1.240085e+06</td>\n",
       "      <td>1.341449e+06</td>\n",
       "      <td>1.477503e+06</td>\n",
       "      <td>1.477503e+06</td>\n",
       "      <td>3.904086e+05</td>\n",
       "      <td>3.904086e+05</td>\n",
       "      <td>4.979106e+05</td>\n",
       "      <td>...</td>\n",
       "      <td>0</td>\n",
       "      <td>0</td>\n",
       "      <td>0</td>\n",
       "      <td>0</td>\n",
       "      <td>33.0</td>\n",
       "      <td>24.0</td>\n",
       "      <td>19.0</td>\n",
       "      <td>3.0</td>\n",
       "      <td>1.0</td>\n",
       "      <td>1.0</td>\n",
       "    </tr>\n",
       "    <tr>\n",
       "      <td>3</td>\n",
       "      <td>RIYDO15W1</td>\n",
       "      <td>1.932258e+05</td>\n",
       "      <td>1.454433e+05</td>\n",
       "      <td>1.929148e+05</td>\n",
       "      <td>1.454433e+05</td>\n",
       "      <td>1.318250e+04</td>\n",
       "      <td>1.318250e+04</td>\n",
       "      <td>8.650108e+04</td>\n",
       "      <td>8.650108e+04</td>\n",
       "      <td>5.896693e+03</td>\n",
       "      <td>...</td>\n",
       "      <td>0</td>\n",
       "      <td>0</td>\n",
       "      <td>0</td>\n",
       "      <td>0</td>\n",
       "      <td>8.0</td>\n",
       "      <td>8.0</td>\n",
       "      <td>3.0</td>\n",
       "      <td>7.0</td>\n",
       "      <td>7.0</td>\n",
       "      <td>3.0</td>\n",
       "    </tr>\n",
       "    <tr>\n",
       "      <td>4</td>\n",
       "      <td>RIYBGC1ZD</td>\n",
       "      <td>3.913385e+05</td>\n",
       "      <td>1.987337e+05</td>\n",
       "      <td>1.703432e+05</td>\n",
       "      <td>1.987337e+05</td>\n",
       "      <td>3.046536e+05</td>\n",
       "      <td>3.046536e+05</td>\n",
       "      <td>2.528307e+05</td>\n",
       "      <td>2.528307e+05</td>\n",
       "      <td>3.034449e+05</td>\n",
       "      <td>...</td>\n",
       "      <td>0</td>\n",
       "      <td>0</td>\n",
       "      <td>0</td>\n",
       "      <td>0</td>\n",
       "      <td>7.0</td>\n",
       "      <td>7.0</td>\n",
       "      <td>7.0</td>\n",
       "      <td>6.0</td>\n",
       "      <td>6.0</td>\n",
       "      <td>5.0</td>\n",
       "    </tr>\n",
       "  </tbody>\n",
       "</table>\n",
       "<p>5 rows × 2394 columns</p>\n",
       "</div>"
      ],
      "text/plain": [
       "        Col1          Col3          Col4          Col5          Col6  \\\n",
       "0  RIGD58ZWD  8.167140e+04  8.614542e+04  7.532296e+04  7.532296e+04   \n",
       "1  RIH660YDS -1.362824e+07 -4.493043e+06 -3.777257e+06 -4.493043e+06   \n",
       "2  RIH660Q96  1.302700e+06  1.341449e+06  1.240085e+06  1.341449e+06   \n",
       "3  RIYDO15W1  1.932258e+05  1.454433e+05  1.929148e+05  1.454433e+05   \n",
       "4  RIYBGC1ZD  3.913385e+05  1.987337e+05  1.703432e+05  1.987337e+05   \n",
       "\n",
       "           Col7          Col8          Col9         Col10         Col11  ...  \\\n",
       "0  1.125174e+05  1.002778e+05  2.038915e+04  3.053853e+04  8.395911e+04  ...   \n",
       "1 -4.749764e+06 -4.749764e+06  1.147556e+07  1.147556e+07  1.272055e+07  ...   \n",
       "2  1.477503e+06  1.477503e+06  3.904086e+05  3.904086e+05  4.979106e+05  ...   \n",
       "3  1.318250e+04  1.318250e+04  8.650108e+04  8.650108e+04  5.896693e+03  ...   \n",
       "4  3.046536e+05  3.046536e+05  2.528307e+05  2.528307e+05  3.034449e+05  ...   \n",
       "\n",
       "   Col2388  Col2389  Col2390  Col2391  Col2392  Col2393  Col2394  Col2395  \\\n",
       "0        0        0        0        0     44.0     44.0     23.0     41.0   \n",
       "1        1        1        2        2   1234.0   1234.0    680.0    154.0   \n",
       "2        0        0        0        0     33.0     24.0     19.0      3.0   \n",
       "3        0        0        0        0      8.0      8.0      3.0      7.0   \n",
       "4        0        0        0        0      7.0      7.0      7.0      6.0   \n",
       "\n",
       "   Col2396  Col2397  \n",
       "0     41.0     36.0  \n",
       "1    153.0     86.0  \n",
       "2      1.0      1.0  \n",
       "3      7.0      3.0  \n",
       "4      6.0      5.0  \n",
       "\n",
       "[5 rows x 2394 columns]"
      ]
     },
     "execution_count": 10,
     "metadata": {},
     "output_type": "execute_result"
    }
   ],
   "source": [
    "test.head()"
   ]
  },
  {
   "cell_type": "code",
   "execution_count": 11,
   "metadata": {},
   "outputs": [],
   "source": [
    "def processCol1(train,test):\n",
    "    def splitVal(val):\n",
    "        p1=[]\n",
    "        p2=[]\n",
    "        p3=[]\n",
    "        for x in val:\n",
    "            p1.append(x[:2])\n",
    "            p2.append(x[2:4])\n",
    "            p3.append(x[4:])\n",
    "        return p1,p2,p3\n",
    "\n",
    "    x,y,z = splitVal(train['Col1'])\n",
    "    train['Col1_1'] = x\n",
    "    train['Col1_2'] = y\n",
    "    train['Col1_3'] = z\n",
    "    x,y,z = splitVal(test['Col1'])\n",
    "    test['Col1_1'] = x\n",
    "    test['Col1_2'] = y\n",
    "    test['Col1_3'] = z\n",
    "    train.Col1_1.value_counts()\n",
    "\n",
    "    test.Col1_1.value_counts()\n",
    "\n",
    "    le = LabelEncoder()\n",
    "    l = train.Col1_1.values.tolist()\n",
    "    l.extend(test.Col1_1.values.tolist())\n",
    "    l = np.reshape(np.array(l),(len(l),))\n",
    "    le.fit(l)\n",
    "    train.Col1_1 = le.transform(train.Col1_1)\n",
    "    test.Col1_1 = le.transform(test.Col1_1)\n",
    "\n",
    "    train.Col1_2.value_counts()\n",
    "\n",
    "    test.Col1_2.value_counts()\n",
    "\n",
    "    le = LabelEncoder()\n",
    "    l = train.Col1_2.values.tolist()\n",
    "    l.extend(test.Col1_2.values.tolist())\n",
    "    l = np.reshape(np.array(l),(len(l),))\n",
    "    le.fit(l)\n",
    "    train.Col1_2 = le.transform(train.Col1_2)\n",
    "    test.Col1_2 = le.transform(test.Col1_2)\n",
    "\n",
    "    train.Col1_3.value_counts()\n",
    "\n",
    "    test.Col1_3.value_counts()\n",
    "\n",
    "    le = LabelEncoder()\n",
    "    l = train.Col1_3.values.tolist()\n",
    "    l.extend(test.Col1_3.values.tolist())\n",
    "    l = np.reshape(np.array(l),(len(l),))\n",
    "    le.fit(l)\n",
    "    train.Col1_3 = le.transform(train.Col1_3)\n",
    "    test.Col1_3 = le.transform(test.Col1_3)\n",
    "    train.drop(['Col1'],axis=1,inplace=True)\n",
    "    test.drop(['Col1'],axis=1,inplace=True)\n",
    "    print(train.Col1_1.nunique())\n",
    "    print(train.Col1_2.nunique())\n",
    "    print(train.Col1_3.nunique())\n",
    "    print(test.Col1_1.nunique())\n",
    "    print(test.Col1_2.nunique())\n",
    "    print(test.Col1_3.nunique())\n",
    "    return train,test"
   ]
  },
  {
   "cell_type": "code",
   "execution_count": 12,
   "metadata": {},
   "outputs": [
    {
     "name": "stdout",
     "output_type": "stream",
     "text": [
      "63\n",
      "100\n",
      "8275\n",
      "61\n",
      "100\n",
      "8727\n"
     ]
    }
   ],
   "source": [
    "train,test = processCol1(train,test)"
   ]
  },
  {
   "cell_type": "code",
   "execution_count": 13,
   "metadata": {},
   "outputs": [
    {
     "data": {
      "text/plain": [
       "0    15760\n",
       "1     1761\n",
       "Name: Col2, dtype: int64"
      ]
     },
     "execution_count": 13,
     "metadata": {},
     "output_type": "execute_result"
    }
   ],
   "source": [
    "target.value_counts()"
   ]
  },
  {
   "cell_type": "code",
   "execution_count": 14,
   "metadata": {},
   "outputs": [
    {
     "data": {
      "text/plain": [
       "<matplotlib.axes._subplots.AxesSubplot at 0x7f5916457e10>"
      ]
     },
     "execution_count": 14,
     "metadata": {},
     "output_type": "execute_result"
    },
    {
     "data": {
      "image/png": "[encoded data removed]",
      "text/plain": [
       "<Figure size 432x288 with 1 Axes>"
      ]
     },
     "metadata": {
      "needs_background": "light"
     },
     "output_type": "display_data"
    }
   ],
   "source": [
    "sns.barplot(x=target.value_counts().index,y=target.value_counts().values)"
   ]
  },
  {
   "cell_type": "code",
   "execution_count": 15,
   "metadata": {},
   "outputs": [],
   "source": [
    "def missing_values_table(train,test,drop,threshold):\n",
    "    mis_val = train.isnull().sum()\n",
    "    mis_val_percent = 100 * train.isnull().sum() / len(train)\n",
    "    mis_val_table = pd.concat([mis_val, mis_val_percent], axis=1)\n",
    "    mis_val_table_ren_columns = mis_val_table.rename(\n",
    "    columns = {0 : 'Missing Values', 1 : '% of Total Values'})\n",
    "    mis_val_table_ren_columns = mis_val_table_ren_columns[\n",
    "        mis_val_table_ren_columns.iloc[:,1] != 0].sort_values(\n",
    "    '% of Total Values', ascending=False).round(1)\n",
    "    print (\"Your selected dataframe has \" + str(train.shape[1]) + \" columns.\\n\"      \n",
    "        \"There are \" + str(mis_val_table_ren_columns.shape[0]) +\n",
    "          \" columns that have missing values.\")\n",
    "    if drop: \n",
    "        to_drop = (mis_val_table_ren_columns[mis_val_table_ren_columns[\"% of Total Values\"]>=threshold].index)\n",
    "        print(to_drop)\n",
    "        train.drop(to_drop,axis=1,inplace=True)\n",
    "        test.drop(to_drop,axis=1,inplace=True)\n",
    "    return mis_val_table_ren_columns,train,test"
   ]
  },
  {
   "cell_type": "code",
   "execution_count": 16,
   "metadata": {
    "scrolled": true
   },
   "outputs": [
    {
     "name": "stdout",
     "output_type": "stream",
     "text": [
      "Your selected dataframe has 2396 columns.\n",
      "There are 759 columns that have missing values.\n",
      "Index(['Col266', 'Col288', 'Col724', 'Col463', 'Col485', 'Col813', 'Col171'], dtype='object')\n"
     ]
    },
    {
     "data": {
      "text/html": [
       "<div>\n",
       "<style scoped>\n",
       "    .dataframe tbody tr th:only-of-type {\n",
       "        vertical-align: middle;\n",
       "    }\n",
       "\n",
       "    .dataframe tbody tr th {\n",
       "        vertical-align: top;\n",
       "    }\n",
       "\n",
       "    .dataframe thead th {\n",
       "        text-align: right;\n",
       "    }\n",
       "</style>\n",
       "<table border=\"1\" class=\"dataframe\">\n",
       "  <thead>\n",
       "    <tr style=\"text-align: right;\">\n",
       "      <th></th>\n",
       "      <th>Missing Values</th>\n",
       "      <th>% of Total Values</th>\n",
       "    </tr>\n",
       "  </thead>\n",
       "  <tbody>\n",
       "    <tr>\n",
       "      <td>Col266</td>\n",
       "      <td>17514</td>\n",
       "      <td>100.0</td>\n",
       "    </tr>\n",
       "    <tr>\n",
       "      <td>Col288</td>\n",
       "      <td>17514</td>\n",
       "      <td>100.0</td>\n",
       "    </tr>\n",
       "    <tr>\n",
       "      <td>Col724</td>\n",
       "      <td>17514</td>\n",
       "      <td>100.0</td>\n",
       "    </tr>\n",
       "    <tr>\n",
       "      <td>Col463</td>\n",
       "      <td>17514</td>\n",
       "      <td>100.0</td>\n",
       "    </tr>\n",
       "    <tr>\n",
       "      <td>Col485</td>\n",
       "      <td>17514</td>\n",
       "      <td>100.0</td>\n",
       "    </tr>\n",
       "    <tr>\n",
       "      <td>Col813</td>\n",
       "      <td>17514</td>\n",
       "      <td>100.0</td>\n",
       "    </tr>\n",
       "    <tr>\n",
       "      <td>Col171</td>\n",
       "      <td>17411</td>\n",
       "      <td>99.4</td>\n",
       "    </tr>\n",
       "    <tr>\n",
       "      <td>Col930</td>\n",
       "      <td>17127</td>\n",
       "      <td>97.8</td>\n",
       "    </tr>\n",
       "    <tr>\n",
       "      <td>Col40</td>\n",
       "      <td>17046</td>\n",
       "      <td>97.3</td>\n",
       "    </tr>\n",
       "    <tr>\n",
       "      <td>Col38</td>\n",
       "      <td>17035</td>\n",
       "      <td>97.2</td>\n",
       "    </tr>\n",
       "    <tr>\n",
       "      <td>Col535</td>\n",
       "      <td>16985</td>\n",
       "      <td>96.9</td>\n",
       "    </tr>\n",
       "    <tr>\n",
       "      <td>Col556</td>\n",
       "      <td>16985</td>\n",
       "      <td>96.9</td>\n",
       "    </tr>\n",
       "    <tr>\n",
       "      <td>Col822</td>\n",
       "      <td>16985</td>\n",
       "      <td>96.9</td>\n",
       "    </tr>\n",
       "    <tr>\n",
       "      <td>Col733</td>\n",
       "      <td>16979</td>\n",
       "      <td>96.9</td>\n",
       "    </tr>\n",
       "    <tr>\n",
       "      <td>Col359</td>\n",
       "      <td>16979</td>\n",
       "      <td>96.9</td>\n",
       "    </tr>\n",
       "    <tr>\n",
       "      <td>Col338</td>\n",
       "      <td>16979</td>\n",
       "      <td>96.9</td>\n",
       "    </tr>\n",
       "    <tr>\n",
       "      <td>Col566</td>\n",
       "      <td>16968</td>\n",
       "      <td>96.8</td>\n",
       "    </tr>\n",
       "    <tr>\n",
       "      <td>Col545</td>\n",
       "      <td>16968</td>\n",
       "      <td>96.8</td>\n",
       "    </tr>\n",
       "    <tr>\n",
       "      <td>Col832</td>\n",
       "      <td>16968</td>\n",
       "      <td>96.8</td>\n",
       "    </tr>\n",
       "    <tr>\n",
       "      <td>Col743</td>\n",
       "      <td>16965</td>\n",
       "      <td>96.8</td>\n",
       "    </tr>\n",
       "  </tbody>\n",
       "</table>\n",
       "</div>"
      ],
      "text/plain": [
       "        Missing Values  % of Total Values\n",
       "Col266           17514              100.0\n",
       "Col288           17514              100.0\n",
       "Col724           17514              100.0\n",
       "Col463           17514              100.0\n",
       "Col485           17514              100.0\n",
       "Col813           17514              100.0\n",
       "Col171           17411               99.4\n",
       "Col930           17127               97.8\n",
       "Col40            17046               97.3\n",
       "Col38            17035               97.2\n",
       "Col535           16985               96.9\n",
       "Col556           16985               96.9\n",
       "Col822           16985               96.9\n",
       "Col733           16979               96.9\n",
       "Col359           16979               96.9\n",
       "Col338           16979               96.9\n",
       "Col566           16968               96.8\n",
       "Col545           16968               96.8\n",
       "Col832           16968               96.8\n",
       "Col743           16965               96.8"
      ]
     },
     "execution_count": 16,
     "metadata": {},
     "output_type": "execute_result"
    }
   ],
   "source": [
    "missing_values,train,test = missing_values_table(train,test,True,missing_threshold)\n",
    "missing_values.head(20)"
   ]
  },
  {
   "cell_type": "code",
   "execution_count": 17,
   "metadata": {},
   "outputs": [],
   "source": [
    "def handle_dashes(train,test):\n",
    "    for col in train.columns:\n",
    "        if train[col].dtype == object:\n",
    "            train[col] = pd.to_numeric(train[col],errors='coerce')\n",
    "    for col in test.columns:\n",
    "        if test[col].dtype == object:\n",
    "            test[col] = pd.to_numeric(test[col],errors='coerce')\n",
    "    return train,test "
   ]
  },
  {
   "cell_type": "code",
   "execution_count": 18,
   "metadata": {},
   "outputs": [],
   "source": [
    "train,test = handle_dashes(train,test)"
   ]
  },
  {
   "cell_type": "code",
   "execution_count": 19,
   "metadata": {},
   "outputs": [],
   "source": [
    "def matchTypes(train, test):\n",
    "    for col in train.columns:\n",
    "        if train[col].dtype == float:\n",
    "            test[col] = test[col].astype('float')\n",
    "        if train[col].dtype == int:\n",
    "            try:\n",
    "                test[col] = test[col].astype('int')\n",
    "            except:\n",
    "                train[col] = train[col].astype('float')\n",
    "    return train,test"
   ]
  },
  {
   "cell_type": "code",
   "execution_count": 20,
   "metadata": {},
   "outputs": [],
   "source": [
    "train, test = matchTypes(train, test)"
   ]
  },
  {
   "cell_type": "code",
   "execution_count": 21,
   "metadata": {},
   "outputs": [],
   "source": [
    "int_cols = train.columns[train.dtypes=='int']\n",
    "float_cols = train.columns[train.dtypes=='float']"
   ]
  },
  {
   "cell_type": "code",
   "execution_count": 22,
   "metadata": {},
   "outputs": [],
   "source": [
    "# np.array_equal(A,B)  # test if same shape, same elements values\n",
    "# np.array_equiv(A,B)  # test if broadcastable shape, same elements values\n",
    "# np.allclose(A,B,...) \n",
    "def processDuplicateColumns(train,test,columns,threshold):\n",
    "    data_dict = {}\n",
    "    for toProcessCols in columns:\n",
    "        processedColumns = set()\n",
    "        for mainCol in tqdm(toProcessCols):\n",
    "            if mainCol not in processedColumns:\n",
    "                arr = []\n",
    "                for col in toProcessCols:\n",
    "                    if col != mainCol and col not in processedColumns and np.allclose(train[mainCol],train[col],equal_nan=True) and np.allclose(test[mainCol],test[col],equal_nan=True):\n",
    "                        arr.append(col)\n",
    "                        processedColumns.add(col)\n",
    "                if len(arr) > 0:\n",
    "                    data_dict[mainCol] = arr\n",
    "            processedColumns.add(mainCol)\n",
    "    with open(f'{data_path}duplicate_columns.txt','w') as f:\n",
    "        f.write(str(data_dict))\n",
    "        f.close()\n",
    "    return data_dict"
   ]
  },
  {
   "cell_type": "code",
   "execution_count": 23,
   "metadata": {},
   "outputs": [],
   "source": [
    "if os.path.exists(f'{data_path}duplicate_columns.txt'):\n",
    "    with open(f'{data_path}duplicate_columns.txt','r') as f:\n",
    "        data = literal_eval(f.read())\n",
    "else:\n",
    "    data = processDuplicateColumns(train,test,[int_cols,float_cols],0)"
   ]
  },
  {
   "cell_type": "code",
   "execution_count": 24,
   "metadata": {},
   "outputs": [
    {
     "name": "stderr",
     "output_type": "stream",
     "text": [
      "100%|██████████| 100/100 [00:27<00:00,  3.73it/s]\n"
     ]
    }
   ],
   "source": [
    "for v in tqdm(data.values()):\n",
    "    train.drop(v,axis=1,inplace=True)\n",
    "    test.drop(v,axis=1,inplace=True)"
   ]
  },
  {
   "cell_type": "code",
   "execution_count": 25,
   "metadata": {},
   "outputs": [
    {
     "name": "stderr",
     "output_type": "stream",
     "text": [
      "100%|██████████| 1413/1413 [02:10<00:00, 10.80it/s] \n"
     ]
    }
   ],
   "source": [
    "categorical_columns = train.columns[((train.dtypes == 'int')&(train.nunique() < categorical_limit))]\n",
    "for col in tqdm(categorical_columns):\n",
    "    train[col] = train[col].astype('category')\n",
    "    test[col] = test[col].astype('category')"
   ]
  },
  {
   "cell_type": "code",
   "execution_count": 26,
   "metadata": {},
   "outputs": [
    {
     "name": "stdout",
     "output_type": "stream",
     "text": [
      "<class 'pandas.core.frame.DataFrame'>\n",
      "RangeIndex: 17521 entries, 0 to 17520\n",
      "Columns: 2273 entries, Col3 to Col1_3\n",
      "dtypes: category(1413), float64(814), int64(46)\n",
      "memory usage: 138.9 MB\n"
     ]
    }
   ],
   "source": [
    "train.info()"
   ]
  },
  {
   "cell_type": "code",
   "execution_count": 27,
   "metadata": {},
   "outputs": [],
   "source": [
    "col_to_log = train.columns[((train.dtypes != 'category') & (train.max() >= log_limit))]\n",
    "def getSign(val):\n",
    "    if val < 0.0:\n",
    "        return -1\n",
    "    else:\n",
    "        return 1\n",
    "for col in col_to_log:\n",
    "    if train[col].isna().sum() == 0 and test[col].isna().sum() == 0:\n",
    "        sign = train[col].apply(getSign)\n",
    "        train[col] = np.log1p(np.abs(train[col]))*sign\n",
    "        sign = test[col].apply(getSign)\n",
    "        test[col] = np.log1p(np.abs(test[col]))*sign"
   ]
  },
  {
   "cell_type": "code",
   "execution_count": 28,
   "metadata": {},
   "outputs": [
    {
     "data": {
      "text/plain": [
       "4324351"
      ]
     },
     "execution_count": 28,
     "metadata": {},
     "output_type": "execute_result"
    }
   ],
   "source": [
    "train.isna().sum().sum()"
   ]
  },
  {
   "cell_type": "code",
   "execution_count": 29,
   "metadata": {},
   "outputs": [
    {
     "data": {
      "text/plain": [
       "5209082"
      ]
     },
     "execution_count": 29,
     "metadata": {},
     "output_type": "execute_result"
    }
   ],
   "source": [
    "test.isna().sum().sum()"
   ]
  },
  {
   "cell_type": "code",
   "execution_count": 30,
   "metadata": {},
   "outputs": [],
   "source": [
    "# correlations = train.corr(target).sort_values()\n",
    "# print('Most Positive Correlations:\\n', correlations.tail(15))\n",
    "# print('\\nMost Negative Correlations:\\n', correlations.head(15))"
   ]
  },
  {
   "cell_type": "code",
   "execution_count": 31,
   "metadata": {},
   "outputs": [],
   "source": [
    "cp = train.copy()\n",
    "cp2 = test.copy()"
   ]
  },
  {
   "cell_type": "code",
   "execution_count": 376,
   "metadata": {},
   "outputs": [],
   "source": [
    "# model1 = PCA(600)\n",
    "# model2 = PCA(400)\n",
    "# model3 = PCA(400)"
   ]
  },
  {
   "cell_type": "code",
   "execution_count": 470,
   "metadata": {},
   "outputs": [],
   "source": [
    "model1 = TruncatedSVD(400)\n",
    "# model2 = TruncatedSVD(400)\n",
    "# model3 = TruncatedSVD(600)"
   ]
  },
  {
   "cell_type": "code",
   "execution_count": 471,
   "metadata": {},
   "outputs": [],
   "source": [
    "train = cp.copy()\n",
    "test = cp2.copy()\n",
    "for col in train.columns[train.dtypes != 'category']:\n",
    "    train[col].fillna(nan_value,inplace=True)\n",
    "    test[col].fillna(nan_value,inplace=True)"
   ]
  },
  {
   "cell_type": "code",
   "execution_count": 472,
   "metadata": {},
   "outputs": [],
   "source": [
    "train1 = train[cp.columns[cp.dtypes == 'category']]\n",
    "test1 = test[cp.columns[cp.dtypes == 'category']]\n",
    "train1 = pd.DataFrame(model1.fit_transform(train1))\n",
    "test1 = pd.DataFrame(model1.transform(test1))\n",
    "train2 = train[cp.columns[cp.dtypes == 'int']]\n",
    "test2 = test[cp.columns[cp.dtypes == 'int']]\n",
    "# train2 = pd.DataFrame(model2.fit_transform(train2))\n",
    "# test2 = pd.DataFrame(model2.transform(test2))\n",
    "train3 = train[cp.columns[cp.dtypes == 'float']]\n",
    "test3 = test[cp.columns[cp.dtypes == 'float']]\n",
    "# train3 = pd.DataFrame(model3.fit_transform(train3))\n",
    "# test3 = pd.DataFrame(model3.transform(test3))"
   ]
  },
  {
   "cell_type": "code",
   "execution_count": 473,
   "metadata": {},
   "outputs": [],
   "source": [
    "train = pd.concat([train1,train2,train3],axis=1)\n",
    "test = pd.concat([test1,test2,test3],axis=1)"
   ]
  },
  {
   "cell_type": "code",
   "execution_count": 474,
   "metadata": {},
   "outputs": [],
   "source": [
    "train.columns = range(train.shape[1])\n",
    "test.columns = range(train.shape[1])"
   ]
  },
  {
   "cell_type": "code",
   "execution_count": 475,
   "metadata": {},
   "outputs": [],
   "source": [
    "# train = cp.copy()\n",
    "# test = cp2.copy()"
   ]
  },
  {
   "cell_type": "code",
   "execution_count": 476,
   "metadata": {},
   "outputs": [],
   "source": [
    "# from sklearn.neural_network import MLPClassifier"
   ]
  },
  {
   "cell_type": "code",
   "execution_count": 477,
   "metadata": {},
   "outputs": [],
   "source": [
    "# train.isna().sum().sum()"
   ]
  },
  {
   "cell_type": "code",
   "execution_count": 478,
   "metadata": {},
   "outputs": [],
   "source": [
    "# for col in train.columns[train.dtypes != 'category']:\n",
    "#     train[col].fillna(nan_value,inplace=True)\n",
    "#     test[col].fillna(nan_value,inplace=True)"
   ]
  },
  {
   "cell_type": "code",
   "execution_count": 479,
   "metadata": {},
   "outputs": [],
   "source": [
    "# model = MLPClassifier((200,))"
   ]
  },
  {
   "cell_type": "code",
   "execution_count": 480,
   "metadata": {},
   "outputs": [],
   "source": [
    "# model.fit(train,target)"
   ]
  },
  {
   "cell_type": "code",
   "execution_count": 481,
   "metadata": {},
   "outputs": [],
   "source": [
    "# pred = model.predict(test)"
   ]
  },
  {
   "cell_type": "code",
   "execution_count": 482,
   "metadata": {},
   "outputs": [],
   "source": [
    "# lgbm_imp = np.loadtxt(f'{data_path}lgbm_imp_final.txt',dtype='str')\n",
    "# lgbm_imp_int = np.loadtxt(f'{data_path}lgbm_imp_int2.txt',dtype='str')"
   ]
  },
  {
   "cell_type": "code",
   "execution_count": 483,
   "metadata": {},
   "outputs": [],
   "source": [
    "# train = cp[np.concatenate((lgbm_imp,lgbm_imp_int))]\n",
    "# test = cp2[np.concatenate((lgbm_imp,lgbm_imp_int))]"
   ]
  },
  {
   "cell_type": "code",
   "execution_count": 484,
   "metadata": {},
   "outputs": [],
   "source": [
    "# train = cp[lgbm_imp]\n",
    "# test = cp2[lgbm_imp]"
   ]
  },
  {
   "cell_type": "code",
   "execution_count": 485,
   "metadata": {},
   "outputs": [],
   "source": [
    "# train = cp.copy()\n",
    "# test = cp2.copy()"
   ]
  },
  {
   "cell_type": "code",
   "execution_count": 486,
   "metadata": {},
   "outputs": [],
   "source": [
    "# train[train.columns[train.dtypes != 'category']].fillna(nan_value,inplace=True)\n",
    "# train[test.columns[train.dtypes != 'category']].fillna(nan_value,inplace=True)"
   ]
  },
  {
   "cell_type": "code",
   "execution_count": 487,
   "metadata": {},
   "outputs": [
    {
     "name": "stdout",
     "output_type": "stream",
     "text": [
      "<class 'pandas.core.frame.DataFrame'>\n",
      "RangeIndex: 17521 entries, 0 to 17520\n",
      "Columns: 1260 entries, 0 to 1259\n",
      "dtypes: float64(1217), int64(43)\n",
      "memory usage: 168.4 MB\n"
     ]
    }
   ],
   "source": [
    "train.info()"
   ]
  },
  {
   "cell_type": "code",
   "execution_count": 488,
   "metadata": {},
   "outputs": [],
   "source": [
    "import lightgbm as lgb\n",
    "import xgboost as xgb\n",
    "import catboost as cat\n",
    "from sklearn.en"
   ]
  },
  {
   "cell_type": "code",
   "execution_count": 520,
   "metadata": {},
   "outputs": [],
   "source": [
    "model_lgb = lgb.LGBMClassifier(class_weight='balanced',num_leaves=35)\n",
    "model_xgb = xgb.XGBClassifier(learning_rate=0.15,n_estimators=100)\n",
    "# model_rf = RandomForestClassifier(random_state=9)\n",
    "# model_cat = cat.CatBoostClassifier()"
   ]
  },
  {
   "cell_type": "code",
   "execution_count": 521,
   "metadata": {},
   "outputs": [],
   "source": [
    "kfold = StratifiedKFold(3,random_state=42)"
   ]
  },
  {
   "cell_type": "code",
   "execution_count": 522,
   "metadata": {},
   "outputs": [
    {
     "name": "stdout",
     "output_type": "stream",
     "text": [
      "0.9005307310392057\n",
      "0.8914383561643836\n",
      "0.8945205479452055\n"
     ]
    }
   ],
   "source": [
    "for train_idx,test_idx in kfold.split(train,target):\n",
    "    x_train,y_train = train.iloc[train_idx],target.iloc[train_idx]\n",
    "    x_test,y_test = train.iloc[test_idx],target.iloc[test_idx]\n",
    "    model_lgb.fit(x_train,y_train,eval_metric=accuracy_score)\n",
    "    model_xgb.fit(x_train,y_train,eval_metric=accuracy_score)\n",
    "#     model_rf.fit(x_train,y_train)\n",
    "#     model_lgb.fit(x_train,y_train)\n",
    "    pred = np.argmax(model_lgb.predict_proba(x_test) +model_xgb.predict_proba(x_test),axis=1)\n",
    "    print(accuracy_score(y_test,pred))"
   ]
  },
  {
   "cell_type": "code",
   "execution_count": 524,
   "metadata": {},
   "outputs": [
    {
     "data": {
      "text/plain": [
       "19859"
      ]
     },
     "execution_count": 524,
     "metadata": {},
     "output_type": "execute_result"
    }
   ],
   "source": [
    "sub = pd.read_csv(f'{data_path}Sample_submission.csv')\n",
    "# pred = np.argmax(model_lgb.predict_proba(test)+model_xgb.predict_proba(test)+model_rf.predict_proba(test),axis=1)\n",
    "pred = np.argmax(model_lgb.predict_proba(test)+model_xgb.predict_proba(test),axis=1) \n",
    "sub.Col2 = pred\n",
    "sub.to_csv('output.csv',index=False)\n",
    "len(pred[pred==0])"
   ]
  },
  {
   "cell_type": "code",
   "execution_count": 122,
   "metadata": {},
   "outputs": [],
   "source": [
    "# train.to_csv('Train2.csv',index=False)"
   ]
  },
  {
   "cell_type": "code",
   "execution_count": null,
   "metadata": {},
   "outputs": [],
   "source": [
    "# np.savetxt(f'{data_path}lgbm_imp_final.txt',train.columns[model.feature_importances_ > 0].values,fmt='%s')"
   ]
  },
  {
   "cell_type": "code",
   "execution_count": null,
   "metadata": {
    "scrolled": true
   },
   "outputs": [],
   "source": [
    "# train.columns[model.feature_importances_ > 20].values"
   ]
  },
  {
   "cell_type": "code",
   "execution_count": null,
   "metadata": {
    "scrolled": true
   },
   "outputs": [],
   "source": [
    "# model.feature_importances_"
   ]
  },
  {
   "cell_type": "code",
   "execution_count": null,
   "metadata": {},
   "outputs": [],
   "source": [
    "# train.shape"
   ]
  },
  {
   "cell_type": "code",
   "execution_count": null,
   "metadata": {},
   "outputs": [],
   "source": [
    "# len(lgbm_imp)"
   ]
  },
  {
   "cell_type": "code",
   "execution_count": null,
   "metadata": {},
   "outputs": [],
   "source": [
    "# train.columns[model.feature_importances_ == 0]"
   ]
  },
  {
   "cell_type": "code",
   "execution_count": null,
   "metadata": {},
   "outputs": [],
   "source": [
    "# l5 = train.columns[model.feature_importances_ < 5]\n",
    "# g5 = train.columns[model.feature_importances_ >= 5]\n",
    "# l10 = train.columns[(model.feature_importances_ < 10)&(model.feature_importances_ > 10)]\n",
    "# g10 = train.columns[(model.feature_importances_ < 10)&(model.feature_importances_ > 10)]"
   ]
  },
  {
   "cell_type": "code",
   "execution_count": null,
   "metadata": {},
   "outputs": [],
   "source": [
    "# test.Col1_2.nunique()"
   ]
  },
  {
   "cell_type": "code",
   "execution_count": null,
   "metadata": {},
   "outputs": [],
   "source": [
    "len(train.columns[model_lgb.feature_importances_ == 0].values)"
   ]
  },
  {
   "cell_type": "code",
   "execution_count": null,
   "metadata": {},
   "outputs": [],
   "source": [
    "model_lgb.feature_importances_"
   ]
  },
  {
   "cell_type": "code",
   "execution_count": null,
   "metadata": {},
   "outputs": [],
   "source": [
    "cp.shape"
   ]
  },
  {
   "cell_type": "code",
   "execution_count": null,
   "metadata": {},
   "outputs": [],
   "source": [
    "cp.info()"
   ]
  },
  {
   "cell_type": "code",
   "execution_count": 394,
   "metadata": {},
   "outputs": [
    {
     "name": "stderr",
     "output_type": "stream",
     "text": [
      "Using TensorFlow backend.\n"
     ]
    }
   ],
   "source": [
    "# from keras.models import Sequential\n",
    "# from keras.layers import LSTM, Dense, Activation, ThresholdedReLU, MaxPooling2D, Embedding, Dropout\n",
    "# from keras.optimizers import Adam, SGD, RMSprop\n",
    "# from keras import backend as K\n",
    "# from keras.callbacks import EarlyStopping\n",
    "# from keras.layers.advanced_activations import PReLU\n",
    "# from keras.layers.normalization import BatchNormalization\n",
    "# from keras import optimizers\n",
    "# from sklearn.preprocessing import MinMaxScaler\n",
    "\n",
    "# X = train.values.reshape(train.shape[0],train.shape[1],1)\n",
    "# test_df = test.values.reshape(test.shape[0],test.shape[1],1)\n",
    "# print(\"X Shape: \", X.shape)\n",
    "# print(\"Test DF: \", test_df.shape)\n",
    "\n",
    "\n",
    "# inputshape = (X.shape[1], X.shape[2])\n",
    "# print(\"Input Shape: \", inputshape)\n",
    "\n",
    "# LSTM_PARAM = {\"batch_size\":512,\n",
    "#               \"verbose\":2,\n",
    "#               \"epochs\":20}\n",
    "\n",
    "# # Model Architecture\n",
    "# model_lstm = Sequential([\n",
    "#     LSTM(100, input_shape=inputshape),\n",
    "#     Activation('relu'),\n",
    "#     Dropout(0.5),\n",
    "#     Dense(100),\n",
    "#     Activation('relu'),\n",
    "#     Dropout(0.5),\n",
    "#     Dense(10),\n",
    "#     Activation('relu'),\n",
    "#     Dropout(0.5),\n",
    "#     Dense(1, activation = 'sigmoid')\n",
    "# ])\n",
    "\n",
    "\n",
    "# # Compile\n",
    "# opt = optimizers.Adam(0.001)\n",
    "# model_lstm.compile(optimizer=opt, loss='binary_crossentropy',metrics=['accuracy'])\n",
    "# hist = model_lstm.fit(X, target,\n",
    "#                       **LSTM_PARAM)\n",
    "\n",
    "# pred = model_lstm.predict_classes(test_df)\n",
    "\n",
    "# sub.Col2 = pred\n",
    "# sub.to_csv('output.csv',index=False)\n",
    "# len(pred[pred==0])"
   ]
  },
  {
   "cell_type": "code",
   "execution_count": null,
   "metadata": {},
   "outputs": [],
   "source": []
  }
 ],
 "metadata": {
  "kernelspec": {
   "display_name": "Python 3",
   "language": "python",
   "name": "python3"
  },
  "language_info": {
   "codemirror_mode": {
    "name": "ipython",
    "version": 3
   },
   "file_extension": ".py",
   "mimetype": "text/x-python",
   "name": "python",
   "nbconvert_exporter": "python",
   "pygments_lexer": "ipython3",
   "version": "3.7.4"
  }
 },
 "nbformat": 4,
 "nbformat_minor": 2
}
