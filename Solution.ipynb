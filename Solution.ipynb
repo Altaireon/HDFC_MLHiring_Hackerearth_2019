{
 "cells": [
  {
   "cell_type": "code",
   "execution_count": 1,
   "metadata": {},
   "outputs": [],
   "source": [
    "import pandas as pd\n",
    "import numpy as np\n",
    "import matplotlib.pyplot as plt\n",
    "import seaborn as sns\n",
    "%matplotlib inline"
   ]
  },
  {
   "cell_type": "code",
   "execution_count": 2,
   "metadata": {},
   "outputs": [],
   "source": [
    "import os\n",
    "import math\n",
    "import random\n",
    "import glob\n",
    "import requests\n",
    "from ast import literal_eval\n",
    "from multiprocessing import Process"
   ]
  },
  {
   "cell_type": "code",
   "execution_count": 3,
   "metadata": {},
   "outputs": [],
   "source": [
    "import xgboost  as xgb\n",
    "import lightgbm as lgb"
   ]
  },
  {
   "cell_type": "code",
   "execution_count": 4,
   "metadata": {},
   "outputs": [],
   "source": [
    "from sklearn.model_selection import StratifiedKFold\n",
    "from sklearn.decomposition import PCA,TruncatedSVD\n",
    "from sklearn.ensemble import RandomForestClassifier,ExtraTreesClassifier,VotingClassifier\n",
    "from sklearn.metrics import f1_score,accuracy_score"
   ]
  },
  {
   "cell_type": "code",
   "execution_count": 5,
   "metadata": {},
   "outputs": [],
   "source": [
    "data_path = './DataSet/'\n",
    "random_state = 42"
   ]
  },
  {
   "cell_type": "code",
   "execution_count": 6,
   "metadata": {},
   "outputs": [],
   "source": [
    "train = pd.read_csv(f'{data_path}Processed_Train.csv')\n",
    "test = pd.read_csv(f'{data_path}Processed_Test.csv')"
   ]
  },
  {
   "cell_type": "code",
   "execution_count": 7,
   "metadata": {},
   "outputs": [],
   "source": [
    "sub = pd.read_csv(f'{data_path}Sample_submission.csv')"
   ]
  },
  {
   "cell_type": "code",
   "execution_count": 8,
   "metadata": {},
   "outputs": [],
   "source": [
    "# lb = pd.read_csv(f'{data_path}lgb_data_int.csv')"
   ]
  },
  {
   "cell_type": "code",
   "execution_count": 9,
   "metadata": {},
   "outputs": [
    {
     "data": {
      "text/plain": [
       "(2365,)"
      ]
     },
     "execution_count": 9,
     "metadata": {},
     "output_type": "execute_result"
    }
   ],
   "source": [
    "train.columns.shape"
   ]
  },
  {
   "cell_type": "code",
   "execution_count": 10,
   "metadata": {},
   "outputs": [],
   "source": [
    "target = train.Col2\n",
    "train.drop(['Col2'],axis=1,inplace=True)"
   ]
  },
  {
   "cell_type": "code",
   "execution_count": 11,
   "metadata": {},
   "outputs": [],
   "source": [
    "kfold = StratifiedKFold(n_splits=3,random_state=random_state)"
   ]
  },
  {
   "cell_type": "code",
   "execution_count": 12,
   "metadata": {},
   "outputs": [],
   "source": [
    "# index = train.columns[(train.dtypes == float)].values.tolist()"
   ]
  },
  {
   "cell_type": "code",
   "execution_count": 13,
   "metadata": {},
   "outputs": [],
   "source": [
    "# cols = ['unique']"
   ]
  },
  {
   "cell_type": "code",
   "execution_count": 14,
   "metadata": {},
   "outputs": [],
   "source": [
    "# index.extend(cols)"
   ]
  },
  {
   "cell_type": "code",
   "execution_count": 15,
   "metadata": {},
   "outputs": [],
   "source": [
    "# index.extend(lb[(lb.imp > 0)].col.values)"
   ]
  },
  {
   "cell_type": "code",
   "execution_count": 16,
   "metadata": {},
   "outputs": [],
   "source": [
    "# index.remove('Col918')\n",
    "# index.remove('Col923')"
   ]
  },
  {
   "cell_type": "code",
   "execution_count": 17,
   "metadata": {},
   "outputs": [],
   "source": [
    "# train = train[set(index)]\n",
    "# test = test[set(index)]"
   ]
  },
  {
   "cell_type": "code",
   "execution_count": 18,
   "metadata": {},
   "outputs": [],
   "source": [
    "# len(index)"
   ]
  },
  {
   "cell_type": "code",
   "execution_count": 19,
   "metadata": {},
   "outputs": [
    {
     "data": {
      "text/html": [
       "<div>\n",
       "<style scoped>\n",
       "    .dataframe tbody tr th:only-of-type {\n",
       "        vertical-align: middle;\n",
       "    }\n",
       "\n",
       "    .dataframe tbody tr th {\n",
       "        vertical-align: top;\n",
       "    }\n",
       "\n",
       "    .dataframe thead th {\n",
       "        text-align: right;\n",
       "    }\n",
       "</style>\n",
       "<table border=\"1\" class=\"dataframe\">\n",
       "  <thead>\n",
       "    <tr style=\"text-align: right;\">\n",
       "      <th></th>\n",
       "      <th>Col3</th>\n",
       "      <th>Col4</th>\n",
       "      <th>Col5</th>\n",
       "      <th>Col6</th>\n",
       "      <th>Col7</th>\n",
       "      <th>Col8</th>\n",
       "      <th>Col9</th>\n",
       "      <th>Col10</th>\n",
       "      <th>Col11</th>\n",
       "      <th>Col12</th>\n",
       "      <th>...</th>\n",
       "      <th>Col2391</th>\n",
       "      <th>Col2392</th>\n",
       "      <th>Col2393</th>\n",
       "      <th>Col2394</th>\n",
       "      <th>Col2395</th>\n",
       "      <th>Col2396</th>\n",
       "      <th>Col2397</th>\n",
       "      <th>Col1_1</th>\n",
       "      <th>Col1_2</th>\n",
       "      <th>Col1_3</th>\n",
       "    </tr>\n",
       "  </thead>\n",
       "  <tbody>\n",
       "    <tr>\n",
       "      <td>0</td>\n",
       "      <td>9.293588</td>\n",
       "      <td>9.065239</td>\n",
       "      <td>9.665686</td>\n",
       "      <td>10.271793</td>\n",
       "      <td>8.570669</td>\n",
       "      <td>10.063160</td>\n",
       "      <td>9.461641</td>\n",
       "      <td>10.265213</td>\n",
       "      <td>9.117741</td>\n",
       "      <td>10.323243</td>\n",
       "      <td>...</td>\n",
       "      <td>1</td>\n",
       "      <td>5.370638</td>\n",
       "      <td>5.370638</td>\n",
       "      <td>4.234107</td>\n",
       "      <td>3.135494</td>\n",
       "      <td>3.135494</td>\n",
       "      <td>2.079442</td>\n",
       "      <td>324</td>\n",
       "      <td>338</td>\n",
       "      <td>52</td>\n",
       "    </tr>\n",
       "    <tr>\n",
       "      <td>1</td>\n",
       "      <td>12.462389</td>\n",
       "      <td>12.292086</td>\n",
       "      <td>12.136882</td>\n",
       "      <td>12.136882</td>\n",
       "      <td>12.280498</td>\n",
       "      <td>12.167137</td>\n",
       "      <td>12.059049</td>\n",
       "      <td>12.023941</td>\n",
       "      <td>12.212814</td>\n",
       "      <td>12.133187</td>\n",
       "      <td>...</td>\n",
       "      <td>0</td>\n",
       "      <td>3.737670</td>\n",
       "      <td>3.737670</td>\n",
       "      <td>3.663562</td>\n",
       "      <td>2.564949</td>\n",
       "      <td>2.564949</td>\n",
       "      <td>2.484907</td>\n",
       "      <td>326</td>\n",
       "      <td>342</td>\n",
       "      <td>124</td>\n",
       "    </tr>\n",
       "    <tr>\n",
       "      <td>2</td>\n",
       "      <td>16.496090</td>\n",
       "      <td>16.349255</td>\n",
       "      <td>16.213692</td>\n",
       "      <td>16.128357</td>\n",
       "      <td>16.749305</td>\n",
       "      <td>16.532874</td>\n",
       "      <td>15.487130</td>\n",
       "      <td>15.747948</td>\n",
       "      <td>16.052846</td>\n",
       "      <td>16.225451</td>\n",
       "      <td>...</td>\n",
       "      <td>0</td>\n",
       "      <td>5.937536</td>\n",
       "      <td>5.937536</td>\n",
       "      <td>5.739793</td>\n",
       "      <td>3.091042</td>\n",
       "      <td>3.091042</td>\n",
       "      <td>2.833213</td>\n",
       "      <td>325</td>\n",
       "      <td>631</td>\n",
       "      <td>92</td>\n",
       "    </tr>\n",
       "    <tr>\n",
       "      <td>3</td>\n",
       "      <td>13.419063</td>\n",
       "      <td>13.614755</td>\n",
       "      <td>13.429098</td>\n",
       "      <td>13.429098</td>\n",
       "      <td>13.624019</td>\n",
       "      <td>13.541838</td>\n",
       "      <td>12.787490</td>\n",
       "      <td>12.956692</td>\n",
       "      <td>12.972670</td>\n",
       "      <td>12.915474</td>\n",
       "      <td>...</td>\n",
       "      <td>0</td>\n",
       "      <td>6.555357</td>\n",
       "      <td>6.555357</td>\n",
       "      <td>6.469250</td>\n",
       "      <td>6.858565</td>\n",
       "      <td>6.858565</td>\n",
       "      <td>6.612041</td>\n",
       "      <td>325</td>\n",
       "      <td>656</td>\n",
       "      <td>74</td>\n",
       "    </tr>\n",
       "    <tr>\n",
       "      <td>4</td>\n",
       "      <td>-14.013331</td>\n",
       "      <td>-14.915909</td>\n",
       "      <td>-12.023501</td>\n",
       "      <td>-14.692468</td>\n",
       "      <td>14.764533</td>\n",
       "      <td>14.551021</td>\n",
       "      <td>15.596943</td>\n",
       "      <td>15.510490</td>\n",
       "      <td>15.060657</td>\n",
       "      <td>14.997903</td>\n",
       "      <td>...</td>\n",
       "      <td>0</td>\n",
       "      <td>7.174724</td>\n",
       "      <td>7.174724</td>\n",
       "      <td>7.100027</td>\n",
       "      <td>7.698936</td>\n",
       "      <td>7.698936</td>\n",
       "      <td>7.513164</td>\n",
       "      <td>325</td>\n",
       "      <td>603</td>\n",
       "      <td>19</td>\n",
       "    </tr>\n",
       "  </tbody>\n",
       "</table>\n",
       "<p>5 rows × 2364 columns</p>\n",
       "</div>"
      ],
      "text/plain": [
       "        Col3       Col4       Col5       Col6       Col7       Col8  \\\n",
       "0   9.293588   9.065239   9.665686  10.271793   8.570669  10.063160   \n",
       "1  12.462389  12.292086  12.136882  12.136882  12.280498  12.167137   \n",
       "2  16.496090  16.349255  16.213692  16.128357  16.749305  16.532874   \n",
       "3  13.419063  13.614755  13.429098  13.429098  13.624019  13.541838   \n",
       "4 -14.013331 -14.915909 -12.023501 -14.692468  14.764533  14.551021   \n",
       "\n",
       "        Col9      Col10      Col11      Col12  ...  Col2391   Col2392  \\\n",
       "0   9.461641  10.265213   9.117741  10.323243  ...        1  5.370638   \n",
       "1  12.059049  12.023941  12.212814  12.133187  ...        0  3.737670   \n",
       "2  15.487130  15.747948  16.052846  16.225451  ...        0  5.937536   \n",
       "3  12.787490  12.956692  12.972670  12.915474  ...        0  6.555357   \n",
       "4  15.596943  15.510490  15.060657  14.997903  ...        0  7.174724   \n",
       "\n",
       "    Col2393   Col2394   Col2395   Col2396   Col2397  Col1_1  Col1_2  Col1_3  \n",
       "0  5.370638  4.234107  3.135494  3.135494  2.079442     324     338      52  \n",
       "1  3.737670  3.663562  2.564949  2.564949  2.484907     326     342     124  \n",
       "2  5.937536  5.739793  3.091042  3.091042  2.833213     325     631      92  \n",
       "3  6.555357  6.469250  6.858565  6.858565  6.612041     325     656      74  \n",
       "4  7.174724  7.100027  7.698936  7.698936  7.513164     325     603      19  \n",
       "\n",
       "[5 rows x 2364 columns]"
      ]
     },
     "execution_count": 19,
     "metadata": {},
     "output_type": "execute_result"
    }
   ],
   "source": [
    "train.head()"
   ]
  },
  {
   "cell_type": "code",
   "execution_count": 20,
   "metadata": {},
   "outputs": [],
   "source": [
    "# model_rf = RandomForestClassifier(n_estimators=100)\n",
    "model_lg = lgb.LGBMClassifier(class_weigth='balanced')\n",
    "model_xgb = xgb.XGBClassifier(base_score=0.4)"
   ]
  },
  {
   "cell_type": "code",
   "execution_count": 21,
   "metadata": {},
   "outputs": [],
   "source": [
    "# for train_idx,test_idx in kfold.split(train,target):\n",
    "#     x_train,y_train = train.iloc[train_idx],target.iloc[train_idx]\n",
    "#     x_test,y_test = train.iloc[test_idx],target.iloc[test_idx]\n",
    "#     model_lg.fit(x_train,y_train)\n",
    "#     pred = model_lg.predict(x_test)\n",
    "#     print(f1_score(y_test,pred))"
   ]
  },
  {
   "cell_type": "code",
   "execution_count": 22,
   "metadata": {},
   "outputs": [],
   "source": [
    "# pred = model_lg.predict(test)"
   ]
  },
  {
   "cell_type": "code",
   "execution_count": 23,
   "metadata": {},
   "outputs": [],
   "source": [
    "# model_vc = VotingClassifier(estimators=[('rf',model_rf),('etc',model_etc),('lgb',model_lg),('xgb',model_xgb)])\n",
    "# model_vc.fit(train,target)"
   ]
  },
  {
   "cell_type": "code",
   "execution_count": 24,
   "metadata": {},
   "outputs": [
    {
     "name": "stdout",
     "output_type": "stream",
     "text": [
      "0.9008731381612738\n",
      "0.8977739726027397\n",
      "0.8982876712328767\n"
     ]
    }
   ],
   "source": [
    "for train_idx,test_idx in kfold.split(train,target):\n",
    "    x_train,y_train = train.iloc[train_idx],target.iloc[train_idx]\n",
    "    x_test,y_test = train.iloc[test_idx],target.iloc[test_idx]\n",
    "    model_lg.fit(x_train,y_train,eval_metric=accuracy_score)\n",
    "    model_xgb.fit(x_train,y_train,eval_metric=accuracy_score)\n",
    "    pred = np.argmax(model_lg.predict_proba(x_test) + model_xgb.predict_proba(x_test),axis=1)\n",
    "#     pred = np.argmax(model_lg.predict_proba(x_test),axis=1)\n",
    "    print(accuracy_score(y_test,pred))"
   ]
  },
  {
   "cell_type": "code",
   "execution_count": 25,
   "metadata": {},
   "outputs": [],
   "source": [
    "# pred = np.argmax(model_lg.predict_proba(test) + model_xgb.predict_proba(test),axis=1)\n",
    "# pred = np.argmax(model_lg.predict_proba(test),axis=1)"
   ]
  },
  {
   "cell_type": "code",
   "execution_count": 26,
   "metadata": {},
   "outputs": [
    {
     "data": {
      "text/plain": [
       "(20442, 2)"
      ]
     },
     "execution_count": 26,
     "metadata": {},
     "output_type": "execute_result"
    }
   ],
   "source": [
    "sub.shape"
   ]
  },
  {
   "cell_type": "code",
   "execution_count": 27,
   "metadata": {},
   "outputs": [],
   "source": [
    "pred = np.argmax(model_lg.predict_proba(test) + model_xgb.predict_proba(test),axis=1)"
   ]
  },
  {
   "cell_type": "code",
   "execution_count": 28,
   "metadata": {},
   "outputs": [],
   "source": [
    "sub.Col2 = pred"
   ]
  },
  {
   "cell_type": "code",
   "execution_count": 29,
   "metadata": {},
   "outputs": [],
   "source": [
    "sub.to_csv('output.csv',index=False)"
   ]
  },
  {
   "cell_type": "code",
   "execution_count": 30,
   "metadata": {},
   "outputs": [
    {
     "data": {
      "text/plain": [
       "20034"
      ]
     },
     "execution_count": 30,
     "metadata": {},
     "output_type": "execute_result"
    }
   ],
   "source": [
    "len(pred[pred==0])"
   ]
  },
  {
   "cell_type": "code",
   "execution_count": null,
   "metadata": {},
   "outputs": [],
   "source": []
  }
 ],
 "metadata": {
  "kernelspec": {
   "display_name": "Python 3",
   "language": "python",
   "name": "python3"
  },
  "language_info": {
   "codemirror_mode": {
    "name": "ipython",
    "version": 3
   },
   "file_extension": ".py",
   "mimetype": "text/x-python",
   "name": "python",
   "nbconvert_exporter": "python",
   "pygments_lexer": "ipython3",
   "version": "3.7.4"
  }
 },
 "nbformat": 4,
 "nbformat_minor": 2
}
